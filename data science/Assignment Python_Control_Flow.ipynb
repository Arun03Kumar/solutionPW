{
 "cells": [
  {
   "cell_type": "markdown",
   "id": "a9608db3-1b2a-4692-8ea4-29abda360f65",
   "metadata": {},
   "source": [
    "# Basic If-Else Statements:"
   ]
  },
  {
   "cell_type": "markdown",
   "id": "55ffea27-921b-4f2e-9d2d-bf05963760c5",
   "metadata": {},
   "source": [
    "# solution for problem 1."
   ]
  },
  {
   "cell_type": "code",
   "execution_count": 3,
   "id": "6201e2f7-3816-4c3a-a17a-68fc318f86be",
   "metadata": {},
   "outputs": [
    {
     "name": "stdin",
     "output_type": "stream",
     "text": [
      "Enter a number -56\n"
     ]
    },
    {
     "name": "stdout",
     "output_type": "stream",
     "text": [
      "number is negative\n"
     ]
    }
   ],
   "source": [
    "if(int(input(\"Enter a number\")) < 0):\n",
    "    print(\"number is negative\")\n",
    "else:\n",
    "    print(\"number is positive\")"
   ]
  },
  {
   "cell_type": "markdown",
   "id": "315b2225-f428-4bbe-a11c-119c308be8ac",
   "metadata": {},
   "source": [
    "## solution for problem 2."
   ]
  },
  {
   "cell_type": "code",
   "execution_count": 4,
   "id": "a820ef8f-c5df-4583-a811-e038c5c460c2",
   "metadata": {},
   "outputs": [
    {
     "name": "stdin",
     "output_type": "stream",
     "text": [
      "Enter your Age 18\n"
     ]
    },
    {
     "name": "stdout",
     "output_type": "stream",
     "text": [
      "you are eligible for voting\n"
     ]
    }
   ],
   "source": [
    "if(int(input(\"Enter your Age\")) < 18):\n",
    "    print(\"you are not eligible for voting\")\n",
    "else:\n",
    "    print(\"you are eligible for voting\")"
   ]
  },
  {
   "cell_type": "markdown",
   "id": "fdd450a5-3bd7-4914-b5a3-bc42e65dac4f",
   "metadata": {},
   "source": [
    "## solution for problem 3."
   ]
  },
  {
   "cell_type": "code",
   "execution_count": 6,
   "id": "feed6234-f882-4b7c-8262-42450b35227b",
   "metadata": {},
   "outputs": [
    {
     "name": "stdin",
     "output_type": "stream",
     "text": [
      "Enter two numbers 45 90\n"
     ]
    },
    {
     "name": "stdout",
     "output_type": "stream",
     "text": [
      "90 is larger than 45\n"
     ]
    }
   ],
   "source": [
    "num1, num2 = map(str, input(\"Enter two numbers\").split())\n",
    "if(num1 < num2):\n",
    "    print(f\"{num2} is larger than {num1}\")\n",
    "else:\n",
    "    print(f\"{num1} is larger than {num2}\")"
   ]
  },
  {
   "cell_type": "markdown",
   "id": "328e36c1-d63e-499e-a128-a2e187c5df89",
   "metadata": {},
   "source": [
    "# solution for problem 4."
   ]
  },
  {
   "cell_type": "code",
   "execution_count": 10,
   "id": "4e56743c-f2c6-4442-b14a-92a69f223501",
   "metadata": {},
   "outputs": [
    {
     "name": "stdin",
     "output_type": "stream",
     "text": [
      "Enter a Year 2016\n"
     ]
    },
    {
     "name": "stdout",
     "output_type": "stream",
     "text": [
      "2016 is a leap year\n"
     ]
    }
   ],
   "source": [
    "year = int(input(\"Enter a Year\"))\n",
    "if(year % 100 == 0):\n",
    "    if year % 400 == 0:\n",
    "        print(f\"{year} is a leap year\")\n",
    "    else:\n",
    "        print(f\"{year} is not a leap year\")\n",
    "elif year % 4 == 0:\n",
    "    print(f\"{year} is a leap year\")\n",
    "else:\n",
    "    print(f\"{year} is not a leap year\")"
   ]
  },
  {
   "cell_type": "markdown",
   "id": "c6cf83d1-648f-4205-8460-1447e94f161f",
   "metadata": {},
   "source": [
    "## solution for problem 5."
   ]
  },
  {
   "cell_type": "code",
   "execution_count": 11,
   "id": "6a22f92f-a33b-4a1b-aac8-ede635e96ee0",
   "metadata": {},
   "outputs": [
    {
     "name": "stdin",
     "output_type": "stream",
     "text": [
      "Enter a character d\n"
     ]
    },
    {
     "name": "stdout",
     "output_type": "stream",
     "text": [
      "it is a consonent\n"
     ]
    }
   ],
   "source": [
    "if input(\"Enter a character\") in \"AEIOUaeiou\":\n",
    "    print(\"it is a vowel\")\n",
    "else:\n",
    "    print(\"it is a consonent\")"
   ]
  },
  {
   "cell_type": "markdown",
   "id": "ea34a7d8-d2a3-4309-b568-4b87325c5ca4",
   "metadata": {},
   "source": [
    "## solution for problem 6."
   ]
  },
  {
   "cell_type": "code",
   "execution_count": 12,
   "id": "37459ef0-bb8a-4a58-b09b-95a341bb1d72",
   "metadata": {},
   "outputs": [
    {
     "name": "stdin",
     "output_type": "stream",
     "text": [
      "Enter a number 25\n"
     ]
    },
    {
     "name": "stdout",
     "output_type": "stream",
     "text": [
      "it is odd number\n"
     ]
    }
   ],
   "source": [
    "if int(input(\"Enter a number\")) % 2 == 0:\n",
    "    print(\"it is even number\")\n",
    "else:\n",
    "    print(\"it is odd number\")"
   ]
  },
  {
   "cell_type": "markdown",
   "id": "b070581f-90eb-4130-ac7e-333a8ad13681",
   "metadata": {},
   "source": [
    "## solution for problem 7."
   ]
  },
  {
   "cell_type": "code",
   "execution_count": 13,
   "id": "411309a9-f12a-4575-bf49-d12070a67eb0",
   "metadata": {},
   "outputs": [
    {
     "name": "stdin",
     "output_type": "stream",
     "text": [
      "Enter a number -5\n"
     ]
    },
    {
     "name": "stdout",
     "output_type": "stream",
     "text": [
      "absolute value is 5\n"
     ]
    }
   ],
   "source": [
    "num = int(input(\"Enter a number\"))\n",
    "if num < 0:\n",
    "    print(f\"absolute value is {num * -1}\")\n",
    "else:\n",
    "    print(f\"absolute value is {num}\")"
   ]
  },
  {
   "cell_type": "markdown",
   "id": "ebef940e-0db3-4cc8-a1d6-a03d8cb644b3",
   "metadata": {},
   "source": [
    "## solution for prblem 8."
   ]
  },
  {
   "cell_type": "code",
   "execution_count": 26,
   "id": "28fd30bd-8ca9-4a6a-83a3-56fd538fc80b",
   "metadata": {},
   "outputs": [
    {
     "name": "stdin",
     "output_type": "stream",
     "text": [
      "Enter three numbers -45 120 3\n"
     ]
    },
    {
     "name": "stdout",
     "output_type": "stream",
     "text": [
      "-45 120 3\n",
      "120 is largest\n"
     ]
    }
   ],
   "source": [
    "num1, num2, num3 = map(int, input(\"Enter three numbers\").split())\n",
    "if num1 > num2 and num1 > num3:\n",
    "    print(f\"{num1} is largest\")\n",
    "elif num2 > num3:\n",
    "    print(f\"{num2} is largest\")\n",
    "else:\n",
    "    print(f\"{num3} is largest\")"
   ]
  },
  {
   "cell_type": "markdown",
   "id": "6b7e478d-bd78-4901-af66-ee43a6fd6f5f",
   "metadata": {},
   "source": [
    "# solution for problem 9."
   ]
  },
  {
   "cell_type": "code",
   "execution_count": 28,
   "id": "f21c21cb-b2ea-4c96-8b73-d0393617dea6",
   "metadata": {},
   "outputs": [
    {
     "name": "stdin",
     "output_type": "stream",
     "text": [
      "ENter a string heeh\n"
     ]
    },
    {
     "name": "stdout",
     "output_type": "stream",
     "text": [
      "given string is pallindrome\n"
     ]
    }
   ],
   "source": [
    "string = input(\"ENter a string\")\n",
    "if string == string[::-1]:\n",
    "    print(\"given string is pallindrome\")\n",
    "else:\n",
    "    print(\"given string is not pallindrome\")"
   ]
  },
  {
   "cell_type": "markdown",
   "id": "d7e5622a-524a-4526-9ef1-83ae1c985190",
   "metadata": {},
   "source": [
    "## solution for problem 10."
   ]
  },
  {
   "cell_type": "code",
   "execution_count": 31,
   "id": "9b6d36b2-a131-4744-8e50-4389184d12b2",
   "metadata": {},
   "outputs": [
    {
     "name": "stdin",
     "output_type": "stream",
     "text": [
      "enter marks of student 85\n"
     ]
    },
    {
     "name": "stdout",
     "output_type": "stream",
     "text": [
      "B grade\n"
     ]
    }
   ],
   "source": [
    "num = int(input(\"enter marks of student\"))\n",
    "if num > 90:\n",
    "    print(\"A Grade\")\n",
    "elif num > 80 and num <= 90:\n",
    "    print(\"B grade\")\n",
    "elif num > 70 and num <= 80:\n",
    "    print(\"C grade\")\n",
    "elif num > 60 and num >= 70:\n",
    "    print(\"D grade\")\n",
    "else:\n",
    "    print(\"F grade\")"
   ]
  },
  {
   "cell_type": "markdown",
   "id": "42b07f28-7ad0-4b4e-b5d3-f705db0a1066",
   "metadata": {},
   "source": [
    "# Nested If-Else Statements:"
   ]
  },
  {
   "cell_type": "markdown",
   "id": "774eb745-b9bd-40d2-9652-5dd62360597f",
   "metadata": {},
   "source": [
    "## solution for problem 11."
   ]
  },
  {
   "cell_type": "code",
   "execution_count": 32,
   "id": "f6c5f430-8b91-4da5-bc99-3055812e8bab",
   "metadata": {},
   "outputs": [
    {
     "name": "stdin",
     "output_type": "stream",
     "text": [
      "Enter first number:  45\n",
      "Enter second number:  48\n",
      "Enter third number:  65\n"
     ]
    },
    {
     "name": "stdout",
     "output_type": "stream",
     "text": [
      "largest among 45.0, 48.0, 65.0 is 65.0\n"
     ]
    }
   ],
   "source": [
    "num1 = float(input(\"Enter first number: \"))\n",
    "num2 = float(input(\"Enter second number: \"))\n",
    "num3 = float(input(\"Enter third number: \"))\n",
    "largest = 0\n",
    "if num1 >= num2:\n",
    "    if num1 >= num3:\n",
    "        largest = num1\n",
    "    else:\n",
    "        largest = num3\n",
    "else:\n",
    "    if num2 >= num3:\n",
    "        largest = num2\n",
    "    else:\n",
    "        largest = num3\n",
    "print(f\"largest among {num1}, {num2}, {num3} is {largest}\")"
   ]
  },
  {
   "cell_type": "markdown",
   "id": "6bcfa754-f433-4aed-903a-6fae108b6112",
   "metadata": {},
   "source": [
    "## solution for problem 12."
   ]
  },
  {
   "cell_type": "code",
   "execution_count": 35,
   "id": "7a8a4ab2-5d04-420e-8aa0-9a2cf5a5ce6e",
   "metadata": {},
   "outputs": [
    {
     "name": "stdin",
     "output_type": "stream",
     "text": [
      "Enter the length of side 1:  45\n",
      "Enter the length of side 2:  45\n",
      "Enter the length of side 3:  45\n"
     ]
    },
    {
     "name": "stdout",
     "output_type": "stream",
     "text": [
      "Equilateral Triangle\n"
     ]
    }
   ],
   "source": [
    "a = int(input(\"Enter the length of side 1: \"))\n",
    "b = int(input(\"Enter the length of side 2: \"))\n",
    "c = int(input(\"Enter the length of side 3: \"))\n",
    "\n",
    "if a + b > c and a + c > b and b + c > a:\n",
    "    if a == b == c:\n",
    "        print(\"Equilateral Triangle\")\n",
    "    elif a == b or b == c or a == c:\n",
    "        print(\"Isosceles Triangle\")\n",
    "    else:\n",
    "        print(\"Scalene Triangle\")\n",
    "else:\n",
    "    print(\"Invalid triangle. The sum of the lengths of any two sides must be greater than the length of the third side.\")"
   ]
  },
  {
   "cell_type": "markdown",
   "id": "8f0ad99b-ec66-4542-b36e-aa78684b86dc",
   "metadata": {},
   "source": [
    "## solution for problem 13."
   ]
  },
  {
   "cell_type": "code",
   "execution_count": 36,
   "id": "7248af97-a6cb-4a19-9e1b-e80c582ca28b",
   "metadata": {},
   "outputs": [
    {
     "name": "stdin",
     "output_type": "stream",
     "text": [
      "Enter a Year 2000\n"
     ]
    },
    {
     "name": "stdout",
     "output_type": "stream",
     "text": [
      "2000 is a leap year and century year\n"
     ]
    }
   ],
   "source": [
    "year = int(input(\"Enter a Year\"))\n",
    "if(year % 100 == 0):\n",
    "    if year % 400 == 0:\n",
    "        print(f\"{year} is a leap year and century year\")\n",
    "    else:\n",
    "        print(f\"{year} is not a leap year\")\n",
    "elif year % 4 == 0:\n",
    "    print(f\"{year} is a leap year\")\n",
    "else:\n",
    "    print(f\"{year} is not a leap year\")"
   ]
  },
  {
   "cell_type": "markdown",
   "id": "e196a750-8a6c-479c-a6a1-0ed509cbf7f5",
   "metadata": {},
   "source": [
    "## solution for problem 14."
   ]
  },
  {
   "cell_type": "code",
   "execution_count": 39,
   "id": "754fb0ea-676a-434d-adef-b413f5fe14a1",
   "metadata": {},
   "outputs": [
    {
     "name": "stdin",
     "output_type": "stream",
     "text": [
      "Enter a number:  0\n"
     ]
    },
    {
     "name": "stdout",
     "output_type": "stream",
     "text": [
      "Zero\n"
     ]
    }
   ],
   "source": [
    "number = float(input(\"Enter a number: \"))\n",
    "if number > 0:\n",
    "    print(\"Positive\")\n",
    "elif number < 0:\n",
    "    print(\"Negative\")\n",
    "else:\n",
    "    print(\"Zero\")"
   ]
  },
  {
   "cell_type": "markdown",
   "id": "3b2b6cf7-cb8d-4e38-923e-da43db7d731b",
   "metadata": {},
   "source": [
    "## solution for problem 15."
   ]
  },
  {
   "cell_type": "code",
   "execution_count": 41,
   "id": "b8573a03-8279-4244-b4b4-ef28933dc621",
   "metadata": {},
   "outputs": [
    {
     "name": "stdin",
     "output_type": "stream",
     "text": [
      "Enter a number:  16\n"
     ]
    },
    {
     "name": "stdout",
     "output_type": "stream",
     "text": [
      "Teenager\n"
     ]
    }
   ],
   "source": [
    "age = int(input(\"Enter a number: \"))\n",
    "if age >= 13 and age <= 19:\n",
    "    print(\"Teenager\")\n",
    "else:\n",
    "    print(\"Not a Teenager\")"
   ]
  },
  {
   "cell_type": "markdown",
   "id": "a9f738bd-5c27-421d-8482-bf38f4a9bcf0",
   "metadata": {},
   "source": [
    "## solution for problem 16."
   ]
  },
  {
   "cell_type": "code",
   "execution_count": 42,
   "id": "761be660-022e-4398-b192-f7cd1faf21ef",
   "metadata": {},
   "outputs": [
    {
     "name": "stdin",
     "output_type": "stream",
     "text": [
      "Enter the measure of the angle in degrees:  90\n"
     ]
    },
    {
     "name": "stdout",
     "output_type": "stream",
     "text": [
      "Right Angle\n"
     ]
    }
   ],
   "source": [
    "angle_measure = float(input(\"Enter the measure of the angle in degrees: \"))\n",
    "if angle_measure < 90:\n",
    "    print(\"Acute Angle\")\n",
    "elif angle_measure == 90:\n",
    "    print(\"Right Angle\")\n",
    "else:\n",
    "    print(\"Obtuse Angle\")"
   ]
  },
  {
   "cell_type": "markdown",
   "id": "10c934ea-2bfa-43fe-9628-5116a3965e3d",
   "metadata": {},
   "source": [
    "## solution for problem 17."
   ]
  },
  {
   "cell_type": "code",
   "execution_count": 44,
   "id": "9a121eed-a737-471f-80f5-25964a6f08f5",
   "metadata": {},
   "outputs": [
    {
     "name": "stdin",
     "output_type": "stream",
     "text": [
      "Enter coefficient a:  45\n",
      "Enter coefficient b:  4\n",
      "Enter coefficient c:  23\n"
     ]
    },
    {
     "name": "stdout",
     "output_type": "stream",
     "text": [
      "(-0.044444444444444446+0.7135375270223254j) (-0.044444444444444446-0.7135375270223254j)\n"
     ]
    }
   ],
   "source": [
    "import math\n",
    "a = float(input(\"Enter coefficient a: \"))\n",
    "b = float(input(\"Enter coefficient b: \"))\n",
    "c = float(input(\"Enter coefficient c: \"))\n",
    "\n",
    "discriminant = b**2 - 4*a*c\n",
    "if discriminant > 0:\n",
    "    root1 = (-b + math.sqrt(discriminant)) / (2*a)\n",
    "    root2 = (-b - math.sqrt(discriminant)) / (2*a)\n",
    "    print(root1, root2)\n",
    "elif discriminant == 0:\n",
    "    root = -b / (2*a)\n",
    "    print(root, root)\n",
    "else:\n",
    "    real_part = -b / (2*a)\n",
    "    imaginary_part = math.sqrt(abs(discriminant)) / (2*a)\n",
    "    root1 = complex(real_part, imaginary_part)\n",
    "    root2 = complex(real_part, -imaginary_part)\n",
    "    print(root1, root2)"
   ]
  },
  {
   "cell_type": "markdown",
   "id": "88edfa46-8609-4089-a81a-63e599c3de4d",
   "metadata": {},
   "source": [
    "## solution for problem 18."
   ]
  },
  {
   "cell_type": "code",
   "execution_count": 46,
   "id": "992993ad-cb0f-4363-b8c8-b8b730dc0c8d",
   "metadata": {},
   "outputs": [
    {
     "name": "stdin",
     "output_type": "stream",
     "text": [
      "Enter a number (1-7) to find the day of the week:  5\n"
     ]
    },
    {
     "name": "stdout",
     "output_type": "stream",
     "text": [
      "Friday\n"
     ]
    }
   ],
   "source": [
    "number = int(input(\"Enter a number (1-7) to find the day of the week: \"))\n",
    "days = [\"Monday\", \"Tuesday\", \"Wednesday\", \"Thursday\", \"Friday\", \"Saturday\", \"Sunday\"]\n",
    "\n",
    "if number >= 1 and number <= 7:\n",
    "    print(days[number - 1])\n",
    "else:\n",
    "    print(\"Invalid input. Please enter a number between 1 and 7.\")"
   ]
  },
  {
   "cell_type": "markdown",
   "id": "5819b749-fe84-4fad-addd-46dfe741acdc",
   "metadata": {},
   "source": [
    "## solution for problem 19."
   ]
  },
  {
   "cell_type": "code",
   "execution_count": 47,
   "id": "df900c39-8835-4b5c-99eb-0a673d66f229",
   "metadata": {},
   "outputs": [
    {
     "name": "stdin",
     "output_type": "stream",
     "text": [
      "Enter a Year 2000\n"
     ]
    },
    {
     "name": "stdout",
     "output_type": "stream",
     "text": [
      "2000 is a leap year and evenly divisible by 400\n"
     ]
    }
   ],
   "source": [
    "year = int(input(\"Enter a Year\"))\n",
    "if(year % 100 == 0):\n",
    "    if year % 400 == 0:\n",
    "        print(f\"{year} is a leap year and evenly divisible by 400\")\n",
    "    else:\n",
    "        print(f\"{year} is not a leap year\")\n",
    "elif year % 4 == 0:\n",
    "    print(f\"{year} is a leap year\")\n",
    "else:\n",
    "    print(f\"{year} is not a leap year\")"
   ]
  },
  {
   "cell_type": "markdown",
   "id": "c4747a2d-fd55-468a-98ac-9db054884261",
   "metadata": {},
   "source": [
    "## solution for problem 20."
   ]
  },
  {
   "cell_type": "code",
   "execution_count": 53,
   "id": "224b3dbc-30cf-46a3-a199-362401cb05af",
   "metadata": {},
   "outputs": [
    {
     "name": "stdin",
     "output_type": "stream",
     "text": [
      "Enter a number  31\n"
     ]
    },
    {
     "name": "stdout",
     "output_type": "stream",
     "text": [
      "prime\n"
     ]
    }
   ],
   "source": [
    "number = int(input(\"Enter a number \"))\n",
    "if number <= 1:\n",
    "    print(\"not prime\")\n",
    "else:\n",
    "    if number == 2:\n",
    "         print(\"prime\")\n",
    "    else:\n",
    "        flag = 0\n",
    "        for i in range(2, int(number ** 0.5) + 1):\n",
    "            if number % i == 0:\n",
    "                flag = 1\n",
    "                print(\"not prime\")\n",
    "        if flag == 0:\n",
    "            print(\"prime\")"
   ]
  },
  {
   "cell_type": "markdown",
   "id": "f4fe614d-b997-40ea-8fe0-d28e812e8437",
   "metadata": {},
   "source": [
    "# Elif Statements:"
   ]
  },
  {
   "cell_type": "markdown",
   "id": "a1412853-7fa6-4ee7-a023-6391fb310628",
   "metadata": {},
   "source": [
    "## solution for problem 21."
   ]
  },
  {
   "cell_type": "code",
   "execution_count": 1,
   "id": "af127eca-4b39-4f3f-af93-5b6a0ea4711f",
   "metadata": {},
   "outputs": [
    {
     "name": "stdin",
     "output_type": "stream",
     "text": [
      "enter marks of student 56\n"
     ]
    },
    {
     "name": "stdout",
     "output_type": "stream",
     "text": [
      "F grade\n"
     ]
    }
   ],
   "source": [
    "num = int(input(\"enter marks of student\"))\n",
    "if num > 90:\n",
    "    print(\"A Grade\")\n",
    "elif num > 80 and num <= 90:\n",
    "    print(\"B grade\")\n",
    "elif num > 70 and num <= 80:\n",
    "    print(\"C grade\")\n",
    "elif num > 60 and num >= 70:\n",
    "    print(\"D grade\")\n",
    "else:\n",
    "    print(\"F grade\")"
   ]
  },
  {
   "cell_type": "markdown",
   "id": "2ceac4b0-f0b9-41d1-98a0-10bde77182c3",
   "metadata": {},
   "source": [
    "## solution for problem 22."
   ]
  },
  {
   "cell_type": "code",
   "execution_count": 3,
   "id": "99599acc-904a-45bb-a21d-63da617e6f04",
   "metadata": {},
   "outputs": [
    {
     "name": "stdin",
     "output_type": "stream",
     "text": [
      "Enter the first angle of the triangle:  90\n",
      "Enter the second angle of the triangle:  45\n",
      "Enter the third angle of the triangle:  45\n"
     ]
    },
    {
     "name": "stdout",
     "output_type": "stream",
     "text": [
      "Right-angled triangle\n"
     ]
    }
   ],
   "source": [
    "angle1 = float(input(\"Enter the first angle of the triangle: \"))\n",
    "angle2 = float(input(\"Enter the second angle of the triangle: \"))\n",
    "angle3 = float(input(\"Enter the third angle of the triangle: \"))\n",
    "if angle1 + angle2 + angle3 == 180:\n",
    "    if angle1 == 90 or angle2 == 90 or angle3 == 90:\n",
    "        print(\"Right-angled triangle\")\n",
    "    elif angle1 < 90 and angle2 < 90 and angle3 < 90:\n",
    "        print(\"Acute-angled triangle\")\n",
    "    else:\n",
    "        print(\"Obtuse-angled triangle\")\n",
    "else:\n",
    "    print(\"Invalid triangle angles\")"
   ]
  },
  {
   "cell_type": "markdown",
   "id": "8376d0df-e14e-4beb-baa8-5b4c4d043f5b",
   "metadata": {},
   "source": [
    "## solution for problem 23."
   ]
  },
  {
   "cell_type": "code",
   "execution_count": 4,
   "id": "cf17c33f-0706-4eff-aa33-f294e7eb9153",
   "metadata": {},
   "outputs": [
    {
     "name": "stdin",
     "output_type": "stream",
     "text": [
      "Enter your weight in kilograms:  50\n",
      "Enter your height in meters:  1.5\n"
     ]
    },
    {
     "name": "stdout",
     "output_type": "stream",
     "text": [
      "Normal weight\n"
     ]
    }
   ],
   "source": [
    "weight = float(input(\"Enter your weight in kilograms: \"))\n",
    "height = float(input(\"Enter your height in meters: \"))\n",
    "bmi = weight / (height ** 2)\n",
    "if bmi < 18.5:\n",
    "    print(\"Underweight\")\n",
    "elif 18.5 <= bmi < 25:\n",
    "    print(\"Normal weight\")\n",
    "elif 25 <= bmi < 30:\n",
    "    print(\"Overweight\")\n",
    "else:\n",
    "    print(\"Obese\")"
   ]
  },
  {
   "cell_type": "markdown",
   "id": "ddffd3ec-758d-4263-bfa2-bf0c5461b122",
   "metadata": {},
   "source": [
    "## solution fpr problem 24."
   ]
  },
  {
   "cell_type": "code",
   "execution_count": 5,
   "id": "4ca6b396-b419-4143-bcd3-2bbc932ecc7b",
   "metadata": {},
   "outputs": [
    {
     "name": "stdin",
     "output_type": "stream",
     "text": [
      "Enter a number:  -5\n"
     ]
    },
    {
     "name": "stdout",
     "output_type": "stream",
     "text": [
      "Negative\n"
     ]
    }
   ],
   "source": [
    "number = float(input(\"Enter a number: \"))\n",
    "if number > 0:\n",
    "    print(\"Positive\")\n",
    "elif number < 0:\n",
    "    print(\"Negative\")\n",
    "else:\n",
    "    print(\"Zero\")"
   ]
  },
  {
   "cell_type": "markdown",
   "id": "21af438f-586e-41d6-a10c-29c5a261576c",
   "metadata": {},
   "source": [
    "## solution for problem 25."
   ]
  },
  {
   "cell_type": "code",
   "execution_count": 7,
   "id": "0b9d3151-a639-499c-be67-0b4617bb186d",
   "metadata": {},
   "outputs": [
    {
     "name": "stdin",
     "output_type": "stream",
     "text": [
      "Enter a character:  4\n"
     ]
    },
    {
     "name": "stdout",
     "output_type": "stream",
     "text": [
      "Special character\n"
     ]
    }
   ],
   "source": [
    "char = input(\"Enter a character: \")\n",
    "if char.isupper():\n",
    "    print( \"Uppercase character\")\n",
    "elif char.islower():\n",
    "    print( \"Lowercase character\")\n",
    "else:\n",
    "    print( \"Special character\")"
   ]
  },
  {
   "cell_type": "markdown",
   "id": "90c77f4c-0d04-406d-bf55-82920c141fe5",
   "metadata": {},
   "source": [
    "## solution for problem 26."
   ]
  },
  {
   "cell_type": "code",
   "execution_count": 8,
   "id": "ff986f52-88dc-41bb-98df-1c42ebe8f2cb",
   "metadata": {},
   "outputs": [
    {
     "name": "stdin",
     "output_type": "stream",
     "text": [
      "Enter the purchase amount:  1000\n"
     ]
    },
    {
     "name": "stdout",
     "output_type": "stream",
     "text": [
      "850.0\n"
     ]
    }
   ],
   "source": [
    "amount = float(input(\"Enter the purchase amount: \"))\n",
    "if amount < 100:\n",
    "    discount = 0\n",
    "elif amount < 500:\n",
    "    discount = 0.05 * amount  # 5% discount for amounts between 100 and 499\n",
    "elif amount < 1000:\n",
    "    discount = 0.1 * amount   # 10% discount for amounts between 500 and 999\n",
    "else:\n",
    "    discount = 0.15 * amount  # 15% discount for amounts of 1000 or more\n",
    "\n",
    "discounted_price = amount - discount\n",
    "print(discounted_price)"
   ]
  },
  {
   "cell_type": "markdown",
   "id": "d525ca75-5549-421b-a702-930661ec5181",
   "metadata": {},
   "source": [
    "## solution for problem 27."
   ]
  },
  {
   "cell_type": "code",
   "execution_count": 9,
   "id": "6b553ce1-2e83-4a4c-99c0-d6bce94ee652",
   "metadata": {},
   "outputs": [
    {
     "name": "stdin",
     "output_type": "stream",
     "text": [
      "Enter the consumption units:  50\n"
     ]
    },
    {
     "name": "stdout",
     "output_type": "stream",
     "text": [
      "25.0\n"
     ]
    }
   ],
   "source": [
    "units = float(input(\"Enter the consumption units: \"))\n",
    "if units <= 50:\n",
    "    bill = units * 0.50  # For the first 50 units, the rate is $0.50 per unit\n",
    "elif units <= 150:\n",
    "    bill = 25 + (units - 50) * 0.75  # For units between 51 and 150, the rate is $0.75 per unit\n",
    "elif units <= 300:\n",
    "    bill = 100 + (units - 150) * 1.20  # For units between 151 and 300, the rate is $1.20 per unit\n",
    "else:\n",
    "    bill = 220 + (units - 300) * 1.50  # For units above 300, the rate is $1.50 per unit\n",
    "\n",
    "print(bill)"
   ]
  },
  {
   "cell_type": "markdown",
   "id": "5daaa049-4b56-48ed-bfd2-7d8f5ad7bc8e",
   "metadata": {},
   "source": [
    "## solution for problem 28."
   ]
  },
  {
   "cell_type": "code",
   "execution_count": 11,
   "id": "ec908514-b286-4bb5-b23e-6468938c6047",
   "metadata": {},
   "outputs": [
    {
     "name": "stdin",
     "output_type": "stream",
     "text": [
      "Enter angle 1 of the quadrilateral:  90\n",
      "Enter side 1 of the quadrilateral:  90\n",
      "Enter angle 2 of the quadrilateral:  90\n",
      "Enter side 2 of the quadrilateral:  90\n",
      "Enter angle 3 of the quadrilateral:  45\n",
      "Enter side 3 of the quadrilateral:  50\n",
      "Enter angle 4 of the quadrilateral:  45\n",
      "Enter side 4 of the quadrilateral:  45\n"
     ]
    },
    {
     "name": "stdout",
     "output_type": "stream",
     "text": [
      "Not a quadrilateral\n"
     ]
    }
   ],
   "source": [
    "angles = []\n",
    "sides = []\n",
    "for i in range(4):\n",
    "    angle = int(input(f\"Enter angle {i+1} of the quadrilateral: \"))\n",
    "    angles.append(angle)\n",
    "    side = int(input(f\"Enter side {i+1} of the quadrilateral: \"))\n",
    "    sides.append(side)\n",
    "if angles == 4 and sides == 4:\n",
    "    if 90 in angles:\n",
    "        print(\"Rectangle\")\n",
    "    elif angles.count(90) == 2:\n",
    "        print(\"Rhombus\")\n",
    "    elif angles.count(90) == 1:\n",
    "        print(\"Trapezoid\")\n",
    "    else:\n",
    "        print(\"Parallelogram\")\n",
    "else:\n",
    "    print(\"Not a quadrilateral\")"
   ]
  },
  {
   "cell_type": "markdown",
   "id": "c410d89a-ca6a-4c4a-8f2f-9d5ceb810cf8",
   "metadata": {},
   "source": [
    "## solution for problem 29."
   ]
  },
  {
   "cell_type": "code",
   "execution_count": 12,
   "id": "60378377-4bcf-4e4c-aeed-94c9cb40bf88",
   "metadata": {},
   "outputs": [
    {
     "name": "stdin",
     "output_type": "stream",
     "text": [
      "Enter the month (as a number, e.g., 1 for January):  5\n"
     ]
    },
    {
     "name": "stdout",
     "output_type": "stream",
     "text": [
      "Spring\n"
     ]
    }
   ],
   "source": [
    "month = int(input(\"Enter the month (as a number, e.g., 1 for January): \"))\n",
    "if month in (1, 2, 12):\n",
    "    season = \"Winter\"\n",
    "elif month in (3, 4, 5):\n",
    "    season = \"Spring\"\n",
    "elif month in (6, 7, 8):\n",
    "    season = \"Summer\"\n",
    "elif month in (9, 10, 11):\n",
    "    season = \"Autumn\"\n",
    "else:\n",
    "    season = \"Invalid month\"\n",
    "print(season)"
   ]
  },
  {
   "cell_type": "markdown",
   "id": "68d2a85f-dc60-4cee-9c58-11a74c0bf08e",
   "metadata": {},
   "source": [
    "## solution for problem 30."
   ]
  },
  {
   "cell_type": "code",
   "execution_count": 14,
   "id": "9855b241-4e58-4ed3-b1c9-f52f4b7a25c5",
   "metadata": {},
   "outputs": [
    {
     "name": "stdin",
     "output_type": "stream",
     "text": [
      "Enter the year:  2000\n"
     ]
    },
    {
     "name": "stdout",
     "output_type": "stream",
     "text": [
      "Yes Leap year\n"
     ]
    },
    {
     "name": "stdin",
     "output_type": "stream",
     "text": [
      "Enter the month (as a number, e.g., 1 for January):  2\n"
     ]
    },
    {
     "name": "stdout",
     "output_type": "stream",
     "text": [
      "29\n"
     ]
    }
   ],
   "source": [
    "year = int(input(\"Enter the year: \"))\n",
    "if (year % 4 == 0 and year % 100 != 0) or (year % 400 == 0):\n",
    "    print(\"Yes Leap year\")\n",
    "else:\n",
    "    print(\"Not a leap year\")\n",
    "    \n",
    "month = int(input(\"Enter the month (as a number, e.g., 1 for January): \"))\n",
    "if month in (1, 3, 5, 7, 8, 10, 12):\n",
    "    print(31)\n",
    "elif month in (4, 6, 9, 11):\n",
    "    print(30)\n",
    "elif month == 2:\n",
    "    if (year % 4 == 0 and year % 100 != 0) or (year % 400 == 0):\n",
    "        print(29)\n",
    "    else:\n",
    "        print(28)\n",
    "else:\n",
    "    print(\"Invalid month\")"
   ]
  },
  {
   "cell_type": "markdown",
   "id": "7a1c6299-d58c-435a-a374-f074e059d7b4",
   "metadata": {},
   "source": [
    "# Basic Level:"
   ]
  },
  {
   "cell_type": "markdown",
   "id": "2ff16bbe-5bed-4e0d-b99b-f054c2726630",
   "metadata": {},
   "source": [
    "## solution for problem 1."
   ]
  },
  {
   "cell_type": "code",
   "execution_count": 16,
   "id": "8dd8137d-62a0-4cbf-b634-b97f9c146cf0",
   "metadata": {},
   "outputs": [
    {
     "name": "stdin",
     "output_type": "stream",
     "text": [
      "Enter a number:  5\n"
     ]
    },
    {
     "name": "stdout",
     "output_type": "stream",
     "text": [
      "Positive\n"
     ]
    }
   ],
   "source": [
    "number = float(input(\"Enter a number: \"))\n",
    "if number > 0:\n",
    "    print(\"Positive\")\n",
    "elif number < 0:\n",
    "    print(\"Negative\")\n",
    "else:\n",
    "    print(\"Zero\")"
   ]
  },
  {
   "cell_type": "markdown",
   "id": "0637b4ed-46f2-4d6b-a827-9835a711fbee",
   "metadata": {},
   "source": [
    "## solution for problem 2."
   ]
  },
  {
   "cell_type": "code",
   "execution_count": 17,
   "id": "8e1ea0df-da96-4b7d-a75c-5871a264378a",
   "metadata": {},
   "outputs": [
    {
     "name": "stdin",
     "output_type": "stream",
     "text": [
      "Enter your Age 45\n"
     ]
    },
    {
     "name": "stdout",
     "output_type": "stream",
     "text": [
      "you are eligible for voting\n"
     ]
    }
   ],
   "source": [
    "if(int(input(\"Enter your Age\")) < 18):\n",
    "    print(\"you are not eligible for voting\")\n",
    "else:\n",
    "    print(\"you are eligible for voting\")"
   ]
  },
  {
   "cell_type": "markdown",
   "id": "2a1e9ac5-8b0c-49ca-bd53-b2fa7ce756cf",
   "metadata": {},
   "source": [
    "## solution for problem 3."
   ]
  },
  {
   "cell_type": "code",
   "execution_count": 18,
   "id": "4529e2c5-79ee-41fa-bf0b-493fa79f2345",
   "metadata": {},
   "outputs": [
    {
     "name": "stdin",
     "output_type": "stream",
     "text": [
      "Enter two numbers 45 12\n"
     ]
    },
    {
     "name": "stdout",
     "output_type": "stream",
     "text": [
      "45 is larger than 12\n"
     ]
    }
   ],
   "source": [
    "num1, num2 = map(str, input(\"Enter two numbers\").split())\n",
    "if(num1 < num2):\n",
    "    print(f\"{num2} is larger than {num1}\")\n",
    "else:\n",
    "    print(f\"{num1} is larger than {num2}\")"
   ]
  },
  {
   "cell_type": "markdown",
   "id": "7b80d366-dc83-4e24-9294-fdc88d18751f",
   "metadata": {},
   "source": [
    "## solution for problem 4."
   ]
  },
  {
   "cell_type": "code",
   "execution_count": 19,
   "id": "ec57388f-57da-495c-ae88-fa59e6133ce9",
   "metadata": {},
   "outputs": [
    {
     "name": "stdin",
     "output_type": "stream",
     "text": [
      "enter marks of student 98\n"
     ]
    },
    {
     "name": "stdout",
     "output_type": "stream",
     "text": [
      "A Grade\n"
     ]
    }
   ],
   "source": [
    "num = int(input(\"enter marks of student\"))\n",
    "if num > 90:\n",
    "    print(\"A Grade\")\n",
    "elif num > 80 and num <= 90:\n",
    "    print(\"B grade\")\n",
    "elif num > 70 and num <= 80:\n",
    "    print(\"C grade\")\n",
    "elif num > 60 and num >= 70:\n",
    "    print(\"D grade\")\n",
    "else:\n",
    "    print(\"F grade\")"
   ]
  },
  {
   "cell_type": "markdown",
   "id": "603eca06-f259-47e8-b4c9-6507692041a8",
   "metadata": {},
   "source": [
    "## solution for problem 5."
   ]
  },
  {
   "cell_type": "code",
   "execution_count": 20,
   "id": "c17cd15c-7d80-4c08-808e-2d92c03f5e7a",
   "metadata": {},
   "outputs": [
    {
     "name": "stdin",
     "output_type": "stream",
     "text": [
      "Enter the year:  400\n"
     ]
    },
    {
     "name": "stdout",
     "output_type": "stream",
     "text": [
      "Yes Leap year\n"
     ]
    }
   ],
   "source": [
    "year = int(input(\"Enter the year: \"))\n",
    "if (year % 4 == 0 and year % 100 != 0) or (year % 400 == 0):\n",
    "    print(\"Yes Leap year\")\n",
    "else:\n",
    "    print(\"Not a leap year\")"
   ]
  },
  {
   "cell_type": "markdown",
   "id": "4ef82d8d-6145-406d-9430-7132a7e88d66",
   "metadata": {},
   "source": [
    "## solution for problem 6."
   ]
  },
  {
   "cell_type": "code",
   "execution_count": 21,
   "id": "d09b8fd9-fc84-4c49-b15e-74a6ea3bb8c0",
   "metadata": {},
   "outputs": [
    {
     "name": "stdin",
     "output_type": "stream",
     "text": [
      "Enter the length of side 1:  45\n",
      "Enter the length of side 2:  56\n",
      "Enter the length of side 3:  12\n"
     ]
    },
    {
     "name": "stdout",
     "output_type": "stream",
     "text": [
      "Scalene Triangle\n"
     ]
    }
   ],
   "source": [
    "a = int(input(\"Enter the length of side 1: \"))\n",
    "b = int(input(\"Enter the length of side 2: \"))\n",
    "c = int(input(\"Enter the length of side 3: \"))\n",
    "\n",
    "if a + b > c and a + c > b and b + c > a:\n",
    "    if a == b == c:\n",
    "        print(\"Equilateral Triangle\")\n",
    "    elif a == b or b == c or a == c:\n",
    "        print(\"Isosceles Triangle\")\n",
    "    else:\n",
    "        print(\"Scalene Triangle\")\n",
    "else:\n",
    "    print(\"Invalid triangle. The sum of the lengths of any two sides must be greater than the length of the third side.\")"
   ]
  },
  {
   "cell_type": "markdown",
   "id": "3a35b251-4eeb-46af-9a63-591874adb2f4",
   "metadata": {},
   "source": [
    "## solution for problem 7."
   ]
  },
  {
   "cell_type": "code",
   "execution_count": 22,
   "id": "9ab1d066-4df4-460b-b6ae-b1007830a8d6",
   "metadata": {},
   "outputs": [
    {
     "name": "stdin",
     "output_type": "stream",
     "text": [
      "Enter three numbers 12 120 87\n"
     ]
    },
    {
     "name": "stdout",
     "output_type": "stream",
     "text": [
      "120 is largest\n"
     ]
    }
   ],
   "source": [
    "num1, num2, num3 = map(int, input(\"Enter three numbers\").split())\n",
    "if num1 > num2 and num1 > num3:\n",
    "    print(f\"{num1} is largest\")\n",
    "elif num2 > num3:\n",
    "    print(f\"{num2} is largest\")\n",
    "else:\n",
    "    print(f\"{num3} is largest\")"
   ]
  },
  {
   "cell_type": "markdown",
   "id": "a563fa6b-63e0-4c10-9d15-33b32c48eb3f",
   "metadata": {},
   "source": [
    "## solution for problem 8."
   ]
  },
  {
   "cell_type": "code",
   "execution_count": 23,
   "id": "9f37cdc0-1f1d-4acb-89be-87debf62debb",
   "metadata": {},
   "outputs": [
    {
     "name": "stdin",
     "output_type": "stream",
     "text": [
      "Enter a character A\n"
     ]
    },
    {
     "name": "stdout",
     "output_type": "stream",
     "text": [
      "it is a vowel\n"
     ]
    }
   ],
   "source": [
    "if input(\"Enter a character\") in \"AEIOUaeiou\":\n",
    "    print(\"it is a vowel\")\n",
    "else:\n",
    "    print(\"it is a consonent\")"
   ]
  },
  {
   "cell_type": "markdown",
   "id": "47d36e8c-9b14-4d64-adec-d6922c40528c",
   "metadata": {},
   "source": [
    "## solution for problem 9."
   ]
  },
  {
   "cell_type": "code",
   "execution_count": 24,
   "id": "ef899b3b-1dd9-4f93-acc6-b7975efd8a96",
   "metadata": {},
   "outputs": [
    {
     "name": "stdin",
     "output_type": "stream",
     "text": [
      "Enter the purchase amount:  500\n"
     ]
    },
    {
     "name": "stdout",
     "output_type": "stream",
     "text": [
      "450.0\n"
     ]
    }
   ],
   "source": [
    "amount = float(input(\"Enter the purchase amount: \"))\n",
    "if amount < 100:\n",
    "    discount = 0\n",
    "elif amount < 500:\n",
    "    discount = 0.05 * amount  # 5% discount for amounts between 100 and 499\n",
    "elif amount < 1000:\n",
    "    discount = 0.1 * amount   # 10% discount for amounts between 500 and 999\n",
    "else:\n",
    "    discount = 0.15 * amount  # 15% discount for amounts of 1000 or more\n",
    "\n",
    "discounted_price = amount - discount\n",
    "print(discounted_price)"
   ]
  },
  {
   "cell_type": "markdown",
   "id": "819a3e6e-cedc-4a04-aa78-bd386ba44e36",
   "metadata": {},
   "source": [
    "## solution for problem 10."
   ]
  },
  {
   "cell_type": "code",
   "execution_count": 25,
   "id": "46bf03c6-92b3-425b-a81b-d232fdc92c07",
   "metadata": {},
   "outputs": [
    {
     "name": "stdin",
     "output_type": "stream",
     "text": [
      "Enter a number 45\n"
     ]
    },
    {
     "name": "stdout",
     "output_type": "stream",
     "text": [
      "it is odd number\n"
     ]
    }
   ],
   "source": [
    "if int(input(\"Enter a number\")) % 2 == 0:\n",
    "    print(\"it is even number\")\n",
    "else:\n",
    "    print(\"it is odd number\")"
   ]
  },
  {
   "cell_type": "markdown",
   "id": "fc163a77-f4cb-4e63-a630-7bb84b04d48b",
   "metadata": {},
   "source": [
    "# Intermediate Level:"
   ]
  },
  {
   "cell_type": "markdown",
   "id": "09bee424-e3c5-4ed6-a010-4b85b0a26734",
   "metadata": {},
   "source": [
    "## solution for problem 11."
   ]
  },
  {
   "cell_type": "code",
   "execution_count": 26,
   "id": "ad034e46-71d5-45a7-ae37-46b2e75c0c48",
   "metadata": {},
   "outputs": [
    {
     "name": "stdin",
     "output_type": "stream",
     "text": [
      "Enter coefficient a:  45\n",
      "Enter coefficient b:  12\n",
      "Enter coefficient c:  68\n"
     ]
    },
    {
     "name": "stdout",
     "output_type": "stream",
     "text": [
      "(-0.13333333333333333+1.2220201853215573j) (-0.13333333333333333-1.2220201853215573j)\n"
     ]
    }
   ],
   "source": [
    "import math\n",
    "a = float(input(\"Enter coefficient a: \"))\n",
    "b = float(input(\"Enter coefficient b: \"))\n",
    "c = float(input(\"Enter coefficient c: \"))\n",
    "\n",
    "discriminant = b**2 - 4*a*c\n",
    "if discriminant > 0:\n",
    "    root1 = (-b + math.sqrt(discriminant)) / (2*a)\n",
    "    root2 = (-b - math.sqrt(discriminant)) / (2*a)\n",
    "    print(root1, root2)\n",
    "elif discriminant == 0:\n",
    "    root = -b / (2*a)\n",
    "    print(root, root)\n",
    "else:\n",
    "    real_part = -b / (2*a)\n",
    "    imaginary_part = math.sqrt(abs(discriminant)) / (2*a)\n",
    "    root1 = complex(real_part, imaginary_part)\n",
    "    root2 = complex(real_part, -imaginary_part)\n",
    "    print(root1, root2)"
   ]
  },
  {
   "cell_type": "markdown",
   "id": "ff24c275-4a02-43ec-9a92-4f7d8b4cd6ea",
   "metadata": {},
   "source": [
    "## solution for problem 12."
   ]
  },
  {
   "cell_type": "code",
   "execution_count": 27,
   "id": "fda973b8-0967-4dcc-bafb-e61f41c4021f",
   "metadata": {},
   "outputs": [
    {
     "name": "stdin",
     "output_type": "stream",
     "text": [
      "Enter a number (1-7) to find the day of the week:  6\n"
     ]
    },
    {
     "name": "stdout",
     "output_type": "stream",
     "text": [
      "Saturday\n"
     ]
    }
   ],
   "source": [
    "number = int(input(\"Enter a number (1-7) to find the day of the week: \"))\n",
    "days = [\"Monday\", \"Tuesday\", \"Wednesday\", \"Thursday\", \"Friday\", \"Saturday\", \"Sunday\"]\n",
    "\n",
    "if number >= 1 and number <= 7:\n",
    "    print(days[number - 1])\n",
    "else:\n",
    "    print(\"Invalid input. Please enter a number between 1 and 7.\")"
   ]
  },
  {
   "cell_type": "markdown",
   "id": "5a13a355-b6c1-465b-b4f3-4bf01d964ffe",
   "metadata": {},
   "source": [
    "## solution for problem 13."
   ]
  },
  {
   "cell_type": "code",
   "execution_count": 29,
   "id": "38032341-8a2b-41d0-8fc8-e2f50620a2cb",
   "metadata": {},
   "outputs": [
    {
     "name": "stdin",
     "output_type": "stream",
     "text": [
      "Enter a number 6\n"
     ]
    },
    {
     "name": "stdout",
     "output_type": "stream",
     "text": [
      "720\n"
     ]
    }
   ],
   "source": [
    "def fact(num):\n",
    "    if num == 1:\n",
    "        print(1\n",
    "    else:\n",
    "        print(num * fact(num - 1)\n",
    "num = int(input(\"Enter a number\"))\n",
    "print(fact(num))"
   ]
  },
  {
   "cell_type": "markdown",
   "id": "c164e74e-0e88-4a10-be80-e8b6d3c12f2e",
   "metadata": {},
   "source": [
    "## solution for problem 14."
   ]
  },
  {
   "cell_type": "code",
   "execution_count": 30,
   "id": "a5426d90-2c7d-45bf-88d7-6aff05c02727",
   "metadata": {},
   "outputs": [
    {
     "name": "stdin",
     "output_type": "stream",
     "text": [
      "Enter three numbers 45 62 36\n"
     ]
    },
    {
     "name": "stdout",
     "output_type": "stream",
     "text": [
      "62 is largest\n"
     ]
    }
   ],
   "source": [
    "num1, num2, num3 = map(int, input(\"Enter three numbers\").split())\n",
    "if num1 > num2 and num1 > num3:\n",
    "    print(f\"{num1} is largest\")\n",
    "elif num2 > num3:\n",
    "    print(f\"{num2} is largest\")\n",
    "else:\n",
    "    print(f\"{num3} is largest\")"
   ]
  },
  {
   "cell_type": "markdown",
   "id": "526690ba-1cfd-4024-854e-60ccd1a62e5b",
   "metadata": {},
   "source": [
    "## solution for problem 15."
   ]
  },
  {
   "cell_type": "code",
   "execution_count": 31,
   "id": "a8ec7c01-0cd5-4d36-b613-d096525b86f7",
   "metadata": {},
   "outputs": [
    {
     "name": "stdout",
     "output_type": "stream",
     "text": [
      "\n",
      "ATM Menu:\n",
      "1. Check Balance\n",
      "2. Deposit\n",
      "3. Withdraw\n",
      "4. Exit\n"
     ]
    },
    {
     "name": "stdin",
     "output_type": "stream",
     "text": [
      "Enter your choice (1-4):  1\n"
     ]
    },
    {
     "name": "stdout",
     "output_type": "stream",
     "text": [
      "Your current balance is: $1000.00\n",
      "\n",
      "ATM Menu:\n",
      "1. Check Balance\n",
      "2. Deposit\n",
      "3. Withdraw\n",
      "4. Exit\n"
     ]
    },
    {
     "name": "stdin",
     "output_type": "stream",
     "text": [
      "Enter your choice (1-4):  2\n",
      "Enter the amount to deposit: $ 150\n"
     ]
    },
    {
     "name": "stdout",
     "output_type": "stream",
     "text": [
      "$150.00 has been deposited into your account.\n",
      "\n",
      "ATM Menu:\n",
      "1. Check Balance\n",
      "2. Deposit\n",
      "3. Withdraw\n",
      "4. Exit\n"
     ]
    },
    {
     "name": "stdin",
     "output_type": "stream",
     "text": [
      "Enter your choice (1-4):  1\n"
     ]
    },
    {
     "name": "stdout",
     "output_type": "stream",
     "text": [
      "Your current balance is: $1150.00\n",
      "\n",
      "ATM Menu:\n",
      "1. Check Balance\n",
      "2. Deposit\n",
      "3. Withdraw\n",
      "4. Exit\n"
     ]
    },
    {
     "name": "stdin",
     "output_type": "stream",
     "text": [
      "Enter your choice (1-4):  3\n",
      "Enter the amount to withdraw: $ 400\n"
     ]
    },
    {
     "name": "stdout",
     "output_type": "stream",
     "text": [
      "$400.00 has been withdrawn from your account.\n",
      "\n",
      "ATM Menu:\n",
      "1. Check Balance\n",
      "2. Deposit\n",
      "3. Withdraw\n",
      "4. Exit\n"
     ]
    },
    {
     "name": "stdin",
     "output_type": "stream",
     "text": [
      "Enter your choice (1-4):  1\n"
     ]
    },
    {
     "name": "stdout",
     "output_type": "stream",
     "text": [
      "Your current balance is: $750.00\n",
      "\n",
      "ATM Menu:\n",
      "1. Check Balance\n",
      "2. Deposit\n",
      "3. Withdraw\n",
      "4. Exit\n"
     ]
    },
    {
     "name": "stdin",
     "output_type": "stream",
     "text": [
      "Enter your choice (1-4):  4\n"
     ]
    },
    {
     "name": "stdout",
     "output_type": "stream",
     "text": [
      "Thank you for using the ATM. Goodbye!\n"
     ]
    }
   ],
   "source": [
    "def check_balance(balance):\n",
    "    print(f\"Your current balance is: ${balance:.2f}\")\n",
    "\n",
    "def deposit(balance):\n",
    "    amount = float(input(\"Enter the amount to deposit: $\"))\n",
    "    balance += amount\n",
    "    print(f\"${amount:.2f} has been deposited into your account.\")\n",
    "    print(balance\n",
    "\n",
    "def withdraw(balance):\n",
    "    amount = float(input(\"Enter the amount to withdraw: $\"))\n",
    "    if amount > balance:\n",
    "        print(\"Insufficient funds. Withdrawal canceled.\")\n",
    "    else:\n",
    "        balance -= amount\n",
    "        print(f\"${amount:.2f} has been withdrawn from your account.\")\n",
    "    print(balance\n",
    "\n",
    "def main():\n",
    "    current_balance = 1000.00  # Initial balance\n",
    "    while True:\n",
    "        print(\"\\nATM Menu:\")\n",
    "        print(\"1. Check Balance\")\n",
    "        print(\"2. Deposit\")\n",
    "        print(\"3. Withdraw\")\n",
    "        print(\"4. Exit\")\n",
    "\n",
    "        choice = input(\"Enter your choice (1-4): \")\n",
    "\n",
    "        if choice == '1':\n",
    "            check_balance(current_balance)\n",
    "        elif choice == '2':\n",
    "            current_balance = deposit(current_balance)\n",
    "        elif choice == '3':\n",
    "            current_balance = withdraw(current_balance)\n",
    "        elif choice == '4':\n",
    "            print(\"Thank you for using the ATM. Goodbye!\")\n",
    "            break\n",
    "        else:\n",
    "            print(\"Invalid choice. Please enter a valid option (1-4).\")\n",
    "main()"
   ]
  },
  {
   "cell_type": "markdown",
   "id": "37aa7047-94e6-4958-b079-1afeb89f0001",
   "metadata": {},
   "source": [
    "## solution for problem 16."
   ]
  },
  {
   "cell_type": "code",
   "execution_count": 32,
   "id": "294043e2-6b26-47c4-8a79-b19fd9d2da74",
   "metadata": {},
   "outputs": [
    {
     "name": "stdin",
     "output_type": "stream",
     "text": [
      "ENter a string igi\n"
     ]
    },
    {
     "name": "stdout",
     "output_type": "stream",
     "text": [
      "given string is pallindrome\n"
     ]
    }
   ],
   "source": [
    "string = input(\"ENter a string\")\n",
    "if string == string[::-1]:\n",
    "    print(\"given string is pallindrome\")\n",
    "else:\n",
    "    print(\"given string is not pallindrome\")"
   ]
  },
  {
   "cell_type": "markdown",
   "id": "d57feb1b-99b7-4c11-89d4-d27b95a675f7",
   "metadata": {},
   "source": [
    "## solution for problem 17."
   ]
  },
  {
   "cell_type": "code",
   "execution_count": 35,
   "id": "1c0eb74a-1919-4422-bac6-7d6c4ace4bc9",
   "metadata": {},
   "outputs": [
    {
     "data": {
      "text/plain": [
       "166"
      ]
     },
     "execution_count": 35,
     "metadata": {},
     "output_type": "execute_result"
    }
   ],
   "source": [
    "lst = [4, 4, 5, 3, 6, 2, 90, 53, 3, 5, 6,34, 23, 5, 6, 3, 2, 2, 6]\n",
    "mn, mx = 1000000, -999999\n",
    "for i in lst:\n",
    "    mn = min(mn, i)\n",
    "    mx = max(mx, i)\n",
    "sum(i for i in lst if i != mx and i != mn)"
   ]
  },
  {
   "cell_type": "markdown",
   "id": "5229ec50-1fc9-499f-b874-4171ad788078",
   "metadata": {},
   "source": [
    "## solution for problem 18."
   ]
  },
  {
   "cell_type": "code",
   "execution_count": 1,
   "id": "d3f1aea9-53ed-429e-9a34-5a93168166b1",
   "metadata": {},
   "outputs": [
    {
     "name": "stdin",
     "output_type": "stream",
     "text": [
      "Enter temperature in Celsius:  32\n"
     ]
    },
    {
     "data": {
      "text/plain": [
       "89.6"
      ]
     },
     "execution_count": 1,
     "metadata": {},
     "output_type": "execute_result"
    }
   ],
   "source": [
    "celsius = float(input(\"Enter temperature in Celsius: \"))\n",
    "fahrenheit = (celsius * 9/5) + 32\n",
    "fahrenheit"
   ]
  },
  {
   "cell_type": "markdown",
   "id": "c4e0d91b-9cfa-44ca-9c84-28137dcee79a",
   "metadata": {},
   "source": [
    "## solution for problem 19."
   ]
  },
  {
   "cell_type": "code",
   "execution_count": 2,
   "id": "522f78c3-e8f4-4b2e-88fd-ebf5443114f8",
   "metadata": {},
   "outputs": [
    {
     "name": "stdout",
     "output_type": "stream",
     "text": [
      "Basic Calculator\n",
      "1. Addition\n",
      "2. Subtraction\n",
      "3. Multiplication\n",
      "4. Division\n"
     ]
    },
    {
     "name": "stdin",
     "output_type": "stream",
     "text": [
      "Enter operation (1-4):  3\n",
      "Enter first number:  45\n",
      "Enter second number:  10\n"
     ]
    },
    {
     "name": "stdout",
     "output_type": "stream",
     "text": [
      "Result: 45.0 * 10.0 = 450.0\n"
     ]
    }
   ],
   "source": [
    "print(\"Basic Calculator\")\n",
    "print(\"1. Addition\")\n",
    "print(\"2. Subtraction\")\n",
    "print(\"3. Multiplication\")\n",
    "print(\"4. Division\")\n",
    "choice = input(\"Enter operation (1-4): \")\n",
    "\n",
    "num1 = float(input(\"Enter first number: \"))\n",
    "num2 = float(input(\"Enter second number: \"))\n",
    "\n",
    "if choice == '1':\n",
    "    result = num1 + num2\n",
    "    print(f\"Result: {num1} + {num2} = {result}\")\n",
    "elif choice == '2':\n",
    "    result = num1 - num2\n",
    "    print(f\"Result: {num1} - {num2} = {result}\")\n",
    "elif choice == '3':\n",
    "    result = num1 * num2\n",
    "    print(f\"Result: {num1} * {num2} = {result}\")\n",
    "elif choice == '4':\n",
    "    result = num1 / num2\n",
    "    print(f\"Result: {num1} / {num2} = {result}\")\n",
    "else:\n",
    "    print(\"Invalid operation choice\")"
   ]
  },
  {
   "cell_type": "markdown",
   "id": "e569f06f-369b-49db-a60c-4e73ec3b4e3b",
   "metadata": {},
   "source": [
    "## solution for problem 20."
   ]
  },
  {
   "cell_type": "code",
   "execution_count": 3,
   "id": "bd3a6ca9-ea77-4d29-b3ad-eaec967bfc78",
   "metadata": {},
   "outputs": [
    {
     "name": "stdin",
     "output_type": "stream",
     "text": [
      "Enter coefficient a:  4\n",
      "Enter coefficient b:  5\n",
      "Enter coefficient c:  6\n",
      "Enter coefficient d:  4\n"
     ]
    },
    {
     "name": "stdout",
     "output_type": "stream",
     "text": [
      "Roots of the cubic equation:\n",
      "Root 1: 0.391681+0.722085j\n"
     ]
    }
   ],
   "source": [
    "import math\n",
    "\n",
    "def cubic_roots(a, b, c, d):\n",
    "    p = c / a - (b**2) / (3 * (a**2))\n",
    "    q = (2 * (b**3)) / (27 * (a**3)) - (b * c) / (3 * (a**2)) + d / a\n",
    "    delta = (q**2) / 4 + (p**3) / 27\n",
    "\n",
    "    if delta > 0:\n",
    "        u = (-q / 2 + math.sqrt(delta)) ** (1/3) \n",
    "        v = (-q / 2 - math.sqrt(delta)) ** (1/3) \n",
    "        real_root = u + v - b / (3 * a)\n",
    "        print([real_root]\n",
    "\n",
    "    elif delta == 0:\n",
    "        u = (-q / 2) ** (1/3)\n",
    "        real_root = 2 * u - b / (3 * a)\n",
    "        complex_root = -u - b / (3 * a)\n",
    "        print([real_root, complex_root]\n",
    "\n",
    "    else:\n",
    "        phi = math.acos(-q / 2 * math.sqrt(-27 / (p**3)))\n",
    "        u = 2 * math.sqrt(-p / 3) * math.cos(phi / 3)\n",
    "        v = 2 * math.sqrt(-p / 3) * math.cos((phi + 2 * math.pi) / 3)\n",
    "        w = 2 * math.sqrt(-p / 3) * math.cos((phi + 4 * math.pi) / 3)\n",
    "        real_root1 = u - b / (3 * a)\n",
    "        real_root2 = v - b / (3 * a)\n",
    "        real_root3 = w - b / (3 * a)\n",
    "        print([real_root1, real_root2, real_root3]\n",
    "\n",
    "a = float(input(\"Enter coefficient a: \"))\n",
    "b = float(input(\"Enter coefficient b: \"))\n",
    "c = float(input(\"Enter coefficient c: \"))\n",
    "d = float(input(\"Enter coefficient d: \"))\n",
    "\n",
    "roots = cubic_roots(a, b, c, d)\n",
    "\n",
    "print(\"Roots of the cubic equation:\")\n",
    "for i, root in enumerate(roots):\n",
    "    print(f\"Root {i+1}: {root:.6f}\")\n"
   ]
  },
  {
   "cell_type": "markdown",
   "id": "937ed3d6-959b-4222-8590-eed163b919af",
   "metadata": {},
   "source": [
    "# Advanced Level:"
   ]
  },
  {
   "cell_type": "markdown",
   "id": "ab4ab473-72c6-4e5f-9176-c78baf236d9e",
   "metadata": {},
   "source": [
    "## solution for problem 21."
   ]
  },
  {
   "cell_type": "code",
   "execution_count": 5,
   "id": "2966faf8-90dc-46ed-80e0-c6b364967d07",
   "metadata": {},
   "outputs": [
    {
     "name": "stdin",
     "output_type": "stream",
     "text": [
      "Enter salary in lacs ex.(for 4lacs enter 4) 15\n"
     ]
    },
    {
     "name": "stdout",
     "output_type": "stream",
     "text": [
      "3.75\n"
     ]
    }
   ],
   "source": [
    "sal = int(input(\"Enter salary in lacs ex.(for 4lacs enter 4)\"))\n",
    "if sal <= 7:\n",
    "    print(\"No tax\")\n",
    "elif sal > 7 and sal <= 10:\n",
    "    tax = sal * .1\n",
    "elif sal > 10 and sal <= 20:\n",
    "    tax = sal * .25\n",
    "else:\n",
    "    tax = sal * .4\n",
    "print(tax)"
   ]
  },
  {
   "cell_type": "markdown",
   "id": "9d0de06c-3aea-400c-baad-49bbc7aebd84",
   "metadata": {},
   "source": [
    "## solution for problem 22."
   ]
  },
  {
   "cell_type": "code",
   "execution_count": 6,
   "id": "353ab30f-7c2f-4584-bcb5-ff593d5bf94b",
   "metadata": {},
   "outputs": [
    {
     "name": "stdout",
     "output_type": "stream",
     "text": [
      "\n",
      "Let's play Rock-Paper-Scissors!\n",
      "Enter your choice:\n",
      "1. Rock\n",
      "2. Paper\n",
      "3. Scissors\n"
     ]
    },
    {
     "name": "stdin",
     "output_type": "stream",
     "text": [
      "Enter 1, 2, or 3:  1\n"
     ]
    },
    {
     "name": "stdout",
     "output_type": "stream",
     "text": [
      "You chose Rock. Computer chose Paper.\n",
      "Computer wins!\n"
     ]
    },
    {
     "name": "stdin",
     "output_type": "stream",
     "text": [
      "Do you want to play again? (yes/no):  no\n"
     ]
    },
    {
     "name": "stdout",
     "output_type": "stream",
     "text": [
      "Thank you for playing. Goodbye!\n"
     ]
    }
   ],
   "source": [
    "import random\n",
    "\n",
    "def get_user_choice():\n",
    "    while True:\n",
    "        print(\"Enter your choice:\")\n",
    "        print(\"1. Rock\")\n",
    "        print(\"2. Paper\")\n",
    "        print(\"3. Scissors\")\n",
    "        choice = input(\"Enter 1, 2, or 3: \")\n",
    "\n",
    "        if choice in ('1', '2', '3'):\n",
    "            print(int(choice)\n",
    "        else:\n",
    "            print(\"Invalid choice. Please enter 1, 2, or 3.\")\n",
    "\n",
    "def get_computer_choice():\n",
    "    print(random.randint(1, 3)\n",
    "\n",
    "def determine_winner(user_choice, computer_choice):\n",
    "    if user_choice == computer_choice:\n",
    "        print(\"It's a tie!\"\n",
    "    elif (user_choice == 1 and computer_choice == 3) or \\\n",
    "         (user_choice == 2 and computer_choice == 1) or \\\n",
    "         (user_choice == 3 and computer_choice == 2):\n",
    "        print(\"You win!\"\n",
    "    else:\n",
    "        print(\"Computer wins!\"\n",
    "\n",
    "# Game execution\n",
    "while True:\n",
    "    print(\"\\nLet's play Rock-Paper-Scissors!\")\n",
    "    user_choice = get_user_choice()\n",
    "    computer_choice = get_computer_choice()\n",
    "\n",
    "    choices = [\"Rock\", \"Paper\", \"Scissors\"]\n",
    "    print(f\"You chose {choices[user_choice - 1]}. Computer chose {choices[computer_choice - 1]}.\")\n",
    "\n",
    "    result = determine_winner(user_choice, computer_choice)\n",
    "    print(result)\n",
    "\n",
    "    play_again = input(\"Do you want to play again? (yes/no): \")\n",
    "    if play_again.lower() != 'yes':\n",
    "        print(\"Thank you for playing. Goodbye!\")\n",
    "        break"
   ]
  },
  {
   "cell_type": "markdown",
   "id": "749c86a6-c2e2-40e0-8649-f13280a6b097",
   "metadata": {},
   "source": [
    "## solution for problem 23."
   ]
  },
  {
   "cell_type": "code",
   "execution_count": 7,
   "id": "598e11cc-50c1-4217-bf1a-60f2bf3fedbe",
   "metadata": {},
   "outputs": [
    {
     "name": "stdin",
     "output_type": "stream",
     "text": [
      "Enter the length of the password:  8\n",
      "Include lowercase letters? (yes/no):  yes\n",
      "Include uppercase letters? (yes/no):  ye\n",
      "Include digits? (yes/no):  yes\n",
      "Include symbols? (yes/no):  yes\n"
     ]
    },
    {
     "name": "stdout",
     "output_type": "stream",
     "text": [
      "Generated Password: k]`/j_j]\n"
     ]
    }
   ],
   "source": [
    "import random\n",
    "import string\n",
    "\n",
    "def generate_password(length, include_lowercase, include_uppercase, include_digits, include_symbols):\n",
    "    characters = ''\n",
    "    if include_lowercase:\n",
    "        characters += string.ascii_lowercase\n",
    "    if include_uppercase:\n",
    "        characters += string.ascii_uppercase\n",
    "    if include_digits:\n",
    "        characters += string.digits\n",
    "    if include_symbols:\n",
    "        characters += string.punctuation\n",
    "\n",
    "    if len(characters) == 0:\n",
    "        print(\"Please select at least one type of characters for the password.\"\n",
    "\n",
    "    password = ''.join(random.choice(characters) for _ in range(length))\n",
    "    print(password\n",
    "\n",
    "length = int(input(\"Enter the length of the password: \"))\n",
    "include_lowercase = input(\"Include lowercase letters? (yes/no): \").lower() == 'yes'\n",
    "include_uppercase = input(\"Include uppercase letters? (yes/no): \").lower() == 'yes'\n",
    "include_digits = input(\"Include digits? (yes/no): \").lower() == 'yes'\n",
    "include_symbols = input(\"Include symbols? (yes/no): \").lower() == 'yes'\n",
    "\n",
    "password = generate_password(length, include_lowercase, include_uppercase, include_digits, include_symbols)\n",
    "print(f\"Generated Password: {password}\")"
   ]
  },
  {
   "cell_type": "markdown",
   "id": "d33f705b-bcbf-4021-8f67-f2e5f1bcc98b",
   "metadata": {},
   "source": [
    "## solution for problem 24."
   ]
  },
  {
   "cell_type": "code",
   "execution_count": 8,
   "id": "791b94c7-ab3a-48b6-ab99-9592816eafc1",
   "metadata": {},
   "outputs": [
    {
     "name": "stdout",
     "output_type": "stream",
     "text": [
      "Welcome to the Text Adventure Game!\n",
      "You wake up in a mysterious forest...\n",
      "\n",
      "What do you want to do?\n",
      "1. Walk deeper into the forest\n",
      "2. Climb a tree to get a better view\n"
     ]
    },
    {
     "name": "stdin",
     "output_type": "stream",
     "text": [
      "Enter your choice (1 or 2):  2\n"
     ]
    },
    {
     "name": "stdout",
     "output_type": "stream",
     "text": [
      "\n",
      "You climb a tree to get a better view.\n",
      "From the top, you see a distant cave and a path leading to a village.\n",
      "What do you want to do?\n",
      "1. Head towards the cave\n",
      "2. Follow the path to the village\n"
     ]
    },
    {
     "name": "stdin",
     "output_type": "stream",
     "text": [
      "Enter your choice (1 or 2):  2\n"
     ]
    },
    {
     "name": "stdout",
     "output_type": "stream",
     "text": [
      "\n",
      "You follow the path to the village.\n",
      "The villagers welcome you warmly.\n",
      "Congratulations, you won!\n"
     ]
    }
   ],
   "source": [
    "def start_game():\n",
    "    print(\"Welcome to the Text Adventure Game!\")\n",
    "    print(\"You wake up in a mysterious forest...\\n\")\n",
    "\n",
    "    print(\"What do you want to do?\")\n",
    "    print(\"1. Walk deeper into the forest\")\n",
    "    print(\"2. Climb a tree to get a better view\")\n",
    "    choice = input(\"Enter your choice (1 or 2): \")\n",
    "\n",
    "    if choice == '1':\n",
    "        walk_into_forest()\n",
    "    elif choice == '2':\n",
    "        climb_tree()\n",
    "    else:\n",
    "        print(\"Invalid choice. Please try again.\")\n",
    "        start_game()\n",
    "\n",
    "def walk_into_forest():\n",
    "    print(\"\\nYou decide to walk deeper into the forest.\")\n",
    "    print(\"As you wander, you encounter a river.\")\n",
    "    print(\"What do you want to do?\")\n",
    "    print(\"1. Attempt to cross the river\")\n",
    "    print(\"2. Follow the riverbank\")\n",
    "    choice = input(\"Enter your choice (1 or 2): \")\n",
    "\n",
    "    if choice == '1':\n",
    "        attempt_crossing_river()\n",
    "    elif choice == '2':\n",
    "        follow_riverbank()\n",
    "    else:\n",
    "        print(\"Invalid choice. Please try again.\")\n",
    "        walk_into_forest()\n",
    "\n",
    "def climb_tree():\n",
    "    print(\"\\nYou climb a tree to get a better view.\")\n",
    "    print(\"From the top, you see a distant cave and a path leading to a village.\")\n",
    "    print(\"What do you want to do?\")\n",
    "    print(\"1. Head towards the cave\")\n",
    "    print(\"2. Follow the path to the village\")\n",
    "    choice = input(\"Enter your choice (1 or 2): \")\n",
    "\n",
    "    if choice == '1':\n",
    "        explore_cave()\n",
    "    elif choice == '2':\n",
    "        visit_village()\n",
    "    else:\n",
    "        print(\"Invalid choice. Please try again.\")\n",
    "        climb_tree()\n",
    "\n",
    "def attempt_crossing_river():\n",
    "    print(\"\\nYou attempt to cross the river.\")\n",
    "    print(\"The current is too strong, and you are swept away...\")\n",
    "    print(\"Game Over!\")\n",
    "\n",
    "def follow_riverbank():\n",
    "    print(\"\\nYou follow the riverbank.\")\n",
    "    print(\"After a while, you find a hidden treasure!\")\n",
    "    print(\"Congratulations, you won!\")\n",
    "\n",
    "def explore_cave():\n",
    "    print(\"\\nYou head towards the cave.\")\n",
    "    print(\"As you enter, you find a treasure chest!\")\n",
    "    print(\"Congratulations, you won!\")\n",
    "\n",
    "def visit_village():\n",
    "    print(\"\\nYou follow the path to the village.\")\n",
    "    print(\"The villagers welcome you warmly.\")\n",
    "    print(\"Congratulations, you won!\")\n",
    "start_game()"
   ]
  },
  {
   "cell_type": "markdown",
   "id": "d64c9505-b837-4e11-9d7f-c4c66ccd9176",
   "metadata": {},
   "source": [
    "## solutiopn for problem 25."
   ]
  },
  {
   "cell_type": "code",
   "execution_count": 9,
   "id": "1c405f6c-e8bc-4858-8152-2d0d9091e715",
   "metadata": {},
   "outputs": [
    {
     "name": "stdin",
     "output_type": "stream",
     "text": [
      "Enter the coefficient 'a' of the equation ax + b = 0:  44\n",
      "Enter the constant 'b' of the equation ax + b = 0:  54\n"
     ]
    },
    {
     "name": "stdout",
     "output_type": "stream",
     "text": [
      "-1.2272727272727273\n"
     ]
    }
   ],
   "source": [
    "a = float(input(\"Enter the coefficient 'a' of the equation ax + b = 0: \"))\n",
    "b = float(input(\"Enter the constant 'b' of the equation ax + b = 0: \"))\n",
    "if a == 0:\n",
    "    if b == 0:\n",
    "        print(\"Infinite solutions (identity equation)\")\n",
    "    else:\n",
    "        print(\"No solution (contradiction)\")\n",
    "else:\n",
    "    x = -b / a\n",
    "    print(x)"
   ]
  },
  {
   "cell_type": "markdown",
   "id": "5a352eb9-6eb2-42a9-87fa-2896eebd8afb",
   "metadata": {},
   "source": [
    "## solution for problem 26."
   ]
  },
  {
   "cell_type": "code",
   "execution_count": 13,
   "id": "27e609dc-f1e2-45c3-8547-6afef5806c86",
   "metadata": {},
   "outputs": [
    {
     "name": "stdout",
     "output_type": "stream",
     "text": [
      "What is the capital of France?\n",
      "1. Paris\n",
      "2. London\n",
      "3. Berlin\n",
      "4. Madrid\n"
     ]
    },
    {
     "name": "stdin",
     "output_type": "stream",
     "text": [
      "ENter your option from 1 to 4. 4\n"
     ]
    },
    {
     "name": "stdout",
     "output_type": "stream",
     "text": [
      "Which planet is known as the Red Planet?\n",
      "1. Venus\n",
      "2. Mars\n",
      "3. Jupiter\n",
      "4. Saturn\n"
     ]
    },
    {
     "name": "stdin",
     "output_type": "stream",
     "text": [
      "ENter your option from 1 to 4. 2\n"
     ]
    },
    {
     "name": "stdout",
     "output_type": "stream",
     "text": [
      "Who painted the Mona Lisa?\n",
      "1. Vincent van Gogh\n",
      "2. Leonardo da Vinci\n",
      "3. Pablo Picasso\n",
      "4. Michelangelo\n"
     ]
    },
    {
     "name": "stdin",
     "output_type": "stream",
     "text": [
      "ENter your option from 1 to 4. 3\n"
     ]
    },
    {
     "name": "stdout",
     "output_type": "stream",
     "text": [
      "total correct:  1\n"
     ]
    }
   ],
   "source": [
    "questions = [\n",
    "        {\n",
    "            \"question\": \"What is the capital of France?\",\n",
    "            \"options\": [\"Paris\", \"London\", \"Berlin\", \"Madrid\"],\n",
    "            \"correct_answer\": 1\n",
    "        },\n",
    "        {\n",
    "            \"question\": \"Which planet is known as the Red Planet?\",\n",
    "            \"options\": [\"Venus\", \"Mars\", \"Jupiter\", \"Saturn\"],\n",
    "            \"correct_answer\": 2\n",
    "        },\n",
    "        {\n",
    "            \"question\": \"Who painted the Mona Lisa?\",\n",
    "            \"options\": [\"Vincent van Gogh\", \"Leonardo da Vinci\", \"Pablo Picasso\", \"Michelangelo\"],\n",
    "            \"correct_answer\": 2\n",
    "        }\n",
    "]\n",
    "correct = 0\n",
    "for i in questions:\n",
    "    print(i[\"question\"])\n",
    "    for j in range(1, 5):\n",
    "        print(f\"{j}. {i['options'][j-1]}\")\n",
    "    ans = int(input(\"ENter your option from 1 to 4.\"))\n",
    "    if ans == i[\"correct_answer\"]:\n",
    "        correct += 1\n",
    "print(\"total correct: \", correct)\n"
   ]
  },
  {
   "cell_type": "markdown",
   "id": "40d8ae64-ee2e-400c-989b-f6a7c840966b",
   "metadata": {},
   "source": [
    "## solution for problem 27."
   ]
  },
  {
   "cell_type": "code",
   "execution_count": 15,
   "id": "64f3d71c-16ed-4b73-b5df-2454bbe2a3fd",
   "metadata": {},
   "outputs": [
    {
     "name": "stdin",
     "output_type": "stream",
     "text": [
      "Enter a year to check if it's a prime number:  2017\n"
     ]
    },
    {
     "name": "stdout",
     "output_type": "stream",
     "text": [
      "prime year\n"
     ]
    }
   ],
   "source": [
    "year = int(input(\"Enter a year to check if it's a prime number: \"))\n",
    "flag = 0\n",
    "if year <= 1:\n",
    "    print(\"Invalid Year\")\n",
    "for i in range(2, int(year ** 0.5) + 1):\n",
    "    if year % i == 0:\n",
    "        print(\"Not prime\")\n",
    "        flag = 1\n",
    "        break\n",
    "if flag == 0:\n",
    "    print(\"prime year\")"
   ]
  },
  {
   "cell_type": "markdown",
   "id": "938190be-1b55-4698-94e0-4be3183245c2",
   "metadata": {},
   "source": [
    "## solution for problem 28."
   ]
  },
  {
   "cell_type": "code",
   "execution_count": 17,
   "id": "166ddd00-86aa-4f5e-bacf-bd7abd8ab2ae",
   "metadata": {},
   "outputs": [
    {
     "name": "stdin",
     "output_type": "stream",
     "text": [
      "Enter first number:  4\n",
      "Enter second number:  8\n",
      "Enter third number:  2\n"
     ]
    },
    {
     "name": "stdout",
     "output_type": "stream",
     "text": [
      "2.0 4.0 8.0\n"
     ]
    }
   ],
   "source": [
    "a = float(input(\"Enter first number: \"))\n",
    "b = float(input(\"Enter second number: \"))\n",
    "c = float(input(\"Enter third number: \"))\n",
    "if a <= b <= c:\n",
    "    print(a, b, c)\n",
    "elif a <= c <= b:\n",
    "    print(a, c, b)\n",
    "elif b <= a <= c:\n",
    "    print(b, a, c)\n",
    "elif b <= c <= a:\n",
    "    print(b, c, a)\n",
    "elif c <= a <= b:\n",
    "    print(c, a, b)\n",
    "else:\n",
    "    print(c, b, a)"
   ]
  },
  {
   "cell_type": "markdown",
   "id": "19a1475d-5c1b-4827-9005-749fac3406d6",
   "metadata": {},
   "source": [
    "## solution for problem 29."
   ]
  },
  {
   "cell_type": "code",
   "execution_count": 18,
   "id": "334c87c2-8b35-4e5e-858e-8da4cbe2560b",
   "metadata": {},
   "outputs": [
    {
     "name": "stdin",
     "output_type": "stream",
     "text": [
      "Enter coefficient a:  5\n",
      "Enter coefficient b:  5\n",
      "Enter coefficient c:  6\n"
     ]
    },
    {
     "name": "stdout",
     "output_type": "stream",
     "text": [
      "(-0.5+0.9746794344808963j) (-0.5-0.9746794344808963j)\n"
     ]
    }
   ],
   "source": [
    "import math\n",
    "a = float(input(\"Enter coefficient a: \"))\n",
    "b = float(input(\"Enter coefficient b: \"))\n",
    "c = float(input(\"Enter coefficient c: \"))\n",
    "\n",
    "discriminant = b**2 - 4*a*c\n",
    "if discriminant > 0:\n",
    "    root1 = (-b + math.sqrt(discriminant)) / (2*a)\n",
    "    root2 = (-b - math.sqrt(discriminant)) / (2*a)\n",
    "    print(root1, root2)\n",
    "elif discriminant == 0:\n",
    "    root = -b / (2*a)\n",
    "    print(root, root)\n",
    "else:\n",
    "    real_part = -b / (2*a)\n",
    "    imaginary_part = math.sqrt(abs(discriminant)) / (2*a)\n",
    "    root1 = complex(real_part, imaginary_part)\n",
    "    root2 = complex(real_part, -imaginary_part)\n",
    "    print(root1, root2)"
   ]
  },
  {
   "cell_type": "markdown",
   "id": "1674eccc-510f-4747-91b0-5d29dcf87e64",
   "metadata": {},
   "source": [
    "## solution for problem 30."
   ]
  },
  {
   "cell_type": "code",
   "execution_count": 19,
   "id": "ee197262-23b4-4b64-9f0f-4d9eae2f198d",
   "metadata": {},
   "outputs": [
    {
     "name": "stdin",
     "output_type": "stream",
     "text": [
      "Enter your weight in kilograms:  50\n",
      "Enter your height in meters:  1.6\n"
     ]
    },
    {
     "name": "stdout",
     "output_type": "stream",
     "text": [
      "Normal weight: Maintain a healthy lifestyle with balanced nutrition and regular exercise\n"
     ]
    }
   ],
   "source": [
    "weight = float(input(\"Enter your weight in kilograms: \"))\n",
    "height = float(input(\"Enter your height in meters: \"))\n",
    "bmi = weight / (height ** 2)\n",
    "if bmi < 18.5:\n",
    "    print(\"Underweight: You may need to gain some weight. Consult a healthcare professional.\")\n",
    "elif 18.5 <= bmi < 25:\n",
    "    print(\"Normal weight: Maintain a healthy lifestyle with balanced nutrition and regular exercise\")\n",
    "elif 25 <= bmi < 30:\n",
    "    print(\"Overweight: Consider losing weight by adopting a balanced diet and exercise regimen.\")\n",
    "else:\n",
    "    print(\"Obese: It's advisable to consult a healthcare professional for guidance.\")"
   ]
  },
  {
   "cell_type": "markdown",
   "id": "5dc8710a-3498-4498-9c94-5ab22418127d",
   "metadata": {},
   "source": [
    "# Challenge Level:"
   ]
  },
  {
   "cell_type": "markdown",
   "id": "419c360f-3f61-46a9-bbd7-aaf9e732221d",
   "metadata": {},
   "source": [
    "## solution for problem 31."
   ]
  },
  {
   "cell_type": "code",
   "execution_count": 20,
   "id": "922aeee3-1bd7-427e-a7c5-c33311673c33",
   "metadata": {},
   "outputs": [
    {
     "name": "stdin",
     "output_type": "stream",
     "text": [
      "Enter your password:  djfhsdkfj\n"
     ]
    },
    {
     "name": "stdout",
     "output_type": "stream",
     "text": [
      "Password must contain at least one uppercase letter, one lowercase letter, and one digit.\n"
     ]
    }
   ],
   "source": [
    "password_input = input(\"Enter your password: \")\n",
    "if len(password) < 8:\n",
    "    print(\"Password must be at least 8 characters long.\")\n",
    "else:\n",
    "    has_upper = any(char.isupper() for char in password)\n",
    "    has_lower = any(char.islower() for char in password)\n",
    "    has_digit = any(char.isdigit() for char in password)\n",
    "    if not (has_upper and has_lower and has_digit):\n",
    "        print(\"Password must contain at least one uppercase letter, one lowercase letter, and one digit.\")\n",
    "    else:\n",
    "        print(\"Password is valid!\")"
   ]
  },
  {
   "cell_type": "markdown",
   "id": "d95a6fd7-040f-4e2f-806d-2e6f03fafc7d",
   "metadata": {},
   "source": [
    "## solution for problem 32."
   ]
  },
  {
   "cell_type": "code",
   "execution_count": 21,
   "id": "6b4df51d-bff8-4a81-81b7-5c1105f4ce83",
   "metadata": {},
   "outputs": [
    {
     "name": "stdin",
     "output_type": "stream",
     "text": [
      "Enter the number of rows:  3\n",
      "Enter the number of columns:  3\n"
     ]
    },
    {
     "name": "stdout",
     "output_type": "stream",
     "text": [
      "Enter elements of the first matrix:\n"
     ]
    },
    {
     "name": "stdin",
     "output_type": "stream",
     "text": [
      "Enter element [1][1]:  1\n",
      "Enter element [1][2]:  2\n",
      "Enter element [1][3]:  3\n",
      "Enter element [2][1]:  4\n",
      "Enter element [2][2]:  5\n",
      "Enter element [2][3]:  6\n",
      "Enter element [3][1]:  7\n",
      "Enter element [3][2]:  8\n",
      "Enter element [3][3]:  9\n"
     ]
    },
    {
     "name": "stdout",
     "output_type": "stream",
     "text": [
      "Enter elements of the second matrix:\n"
     ]
    },
    {
     "name": "stdin",
     "output_type": "stream",
     "text": [
      "Enter element [1][1]:  1\n",
      "Enter element [1][2]:  2\n",
      "Enter element [1][3]:  3\n",
      "Enter element [2][1]:  4\n",
      "Enter element [2][2]:  5\n",
      "Enter element [2][3]:  6\n",
      "Enter element [3][1]:  7\n",
      "Enter element [3][2]:  8\n",
      "Enter element [3][3]:  9\n"
     ]
    },
    {
     "name": "stdout",
     "output_type": "stream",
     "text": [
      "Addition\n",
      "[2, 4, 6]\n",
      "[8, 10, 12]\n",
      "[14, 16, 18]\n",
      "Subtraction\n",
      "[0, 0, 0]\n",
      "[0, 0, 0]\n",
      "[0, 0, 0]\n"
     ]
    }
   ],
   "source": [
    "rows = int(input(\"Enter the number of rows: \"))\n",
    "cols = int(input(\"Enter the number of columns: \"))\n",
    "\n",
    "print(\"Enter elements of the first matrix:\")\n",
    "matrix1 = [[int(input(f\"Enter element [{i+1}][{j+1}]: \")) for j in range(cols)] for i in range(rows)]\n",
    "\n",
    "print(\"Enter elements of the second matrix:\")\n",
    "matrix2 = [[int(input(f\"Enter element [{i+1}][{j+1}]: \")) for j in range(cols)] for i in range(rows)]\n",
    "\n",
    "addition = [[matrix1[i][j] + matrix2[i][j] for j in range(len(matrix1[0]))] for i in range(len(matrix1))]\n",
    "sub = [[matrix1[i][j] - matrix2[i][j] for j in range(len(matrix1[0]))] for i in range(len(matrix1))]\n",
    "\n",
    "print(\"Addition\")\n",
    "for row in addition:\n",
    "    print(row)\n",
    "print(\"Subtraction\")\n",
    "for row in sub:\n",
    "    print(row)"
   ]
  },
  {
   "cell_type": "markdown",
   "id": "a4b86baa-50b9-4c27-a443-1f2b89e37823",
   "metadata": {},
   "source": [
    "## solution for problem 33."
   ]
  },
  {
   "cell_type": "code",
   "execution_count": 22,
   "id": "a5896101-3a71-4cd7-8aa2-1cdbf90c2923",
   "metadata": {},
   "outputs": [
    {
     "name": "stdin",
     "output_type": "stream",
     "text": [
      "Enter first number:  12\n",
      "Enter second number:  3\n"
     ]
    },
    {
     "name": "stdout",
     "output_type": "stream",
     "text": [
      "3\n"
     ]
    }
   ],
   "source": [
    "a = int(input(\"Enter first number: \"))\n",
    "b = int(input(\"Enter second number: \"))\n",
    "while b:\n",
    "    a, b = b, a % b\n",
    "print(a)"
   ]
  },
  {
   "cell_type": "markdown",
   "id": "10e1ca9a-3c3d-4e04-806f-2c8f137618b2",
   "metadata": {},
   "source": [
    "## solution for problem 34."
   ]
  },
  {
   "cell_type": "code",
   "execution_count": 25,
   "id": "e4770899-2869-4994-8d52-a0343b67a668",
   "metadata": {},
   "outputs": [
    {
     "name": "stdin",
     "output_type": "stream",
     "text": [
      "Enter the number of rows for matrix 1:  2\n",
      "Enter the number of columns for matrix 1:  2\n",
      "Enter the number of rows for matrix 2:  2\n",
      "Enter the number of columns for matrix 2:  2\n"
     ]
    },
    {
     "name": "stdout",
     "output_type": "stream",
     "text": [
      "Enter elements of the first matrix:\n"
     ]
    },
    {
     "name": "stdin",
     "output_type": "stream",
     "text": [
      "Enter element [1][1] for matrix 1:  1\n",
      "Enter element [1][2] for matrix 1:  2\n",
      "Enter element [2][1] for matrix 1:  3\n",
      "Enter element [2][2] for matrix 1:  4\n"
     ]
    },
    {
     "name": "stdout",
     "output_type": "stream",
     "text": [
      "Enter elements of the second matrix:\n"
     ]
    },
    {
     "name": "stdin",
     "output_type": "stream",
     "text": [
      "Enter element [1][1] for matrix 2:  1\n",
      "Enter element [1][2] for matrix 2:  2\n",
      "Enter element [2][1] for matrix 2:  3\n",
      "Enter element [2][2] for matrix 2:  4\n"
     ]
    },
    {
     "name": "stdout",
     "output_type": "stream",
     "text": [
      "[7, 10]\n",
      "[15, 22]\n"
     ]
    }
   ],
   "source": [
    "rows1 = int(input(\"Enter the number of rows for matrix 1: \"))\n",
    "cols1 = int(input(\"Enter the number of columns for matrix 1: \"))\n",
    "rows2 = int(input(\"Enter the number of rows for matrix 2: \"))\n",
    "cols2 = int(input(\"Enter the number of columns for matrix 2: \"))\n",
    "\n",
    "print(\"Enter elements of the first matrix:\")\n",
    "matrix1 = [[int(input(f\"Enter element [{i+1}][{j+1}] for matrix 1: \")) for j in range(cols1)] for i in range(rows1)]\n",
    "\n",
    "print(\"Enter elements of the second matrix:\")\n",
    "matrix2 = [[int(input(f\"Enter element [{i+1}][{j+1}] for matrix 2: \")) for j in range(cols2)] for i in range(rows2)]\n",
    "\n",
    "rows1 = len(matrix1)\n",
    "cols1 = len(matrix1[0])\n",
    "rows2 = len(matrix2)\n",
    "cols2 = len(matrix2[0])\n",
    "\n",
    "if cols1 != rows2:\n",
    "    print(\"Matrix multiplication not possible. Columns of the first matrix must be equal to rows of the second matrix.\")\n",
    "\n",
    "result = [[0 for _ in range(cols2)] for _ in range(rows1)]\n",
    "\n",
    "for i in range(rows1):\n",
    "    for j in range(cols2):\n",
    "        for k in range(cols1):\n",
    "            result[i][j] += matrix1[i][k] * matrix2[k][j]\n",
    "\n",
    "for row in result:\n",
    "        print(row)\n"
   ]
  },
  {
   "cell_type": "markdown",
   "id": "1787e1ae-7a66-450d-b8f9-f8e5ac736c2d",
   "metadata": {},
   "source": [
    "## solution for problem 35."
   ]
  },
  {
   "cell_type": "code",
   "execution_count": 27,
   "id": "802756b0-2182-47fe-85f6-6f9c1fa7767a",
   "metadata": {},
   "outputs": [
    {
     "name": "stdout",
     "output_type": "stream",
     "text": [
      "  |   |  \n",
      "---------\n",
      "  |   |  \n",
      "---------\n",
      "  |   |  \n",
      "---------\n"
     ]
    },
    {
     "name": "stdin",
     "output_type": "stream",
     "text": [
      "Enter the row (0, 1, 2):  2\n",
      "Enter the column (0, 1, 2):  2\n"
     ]
    },
    {
     "name": "stdout",
     "output_type": "stream",
     "text": [
      "  |   |  \n",
      "---------\n",
      "  |   |  \n",
      "---------\n",
      "  |   | X\n",
      "---------\n",
      "Computer placed 'O' at position (1, 1)\n",
      "  |   |  \n",
      "---------\n",
      "  | O |  \n",
      "---------\n",
      "  |   | X\n",
      "---------\n"
     ]
    },
    {
     "name": "stdin",
     "output_type": "stream",
     "text": [
      "Enter the row (0, 1, 2):  0\n",
      "Enter the column (0, 1, 2):  0\n"
     ]
    },
    {
     "name": "stdout",
     "output_type": "stream",
     "text": [
      "X |   |  \n",
      "---------\n",
      "  | O |  \n",
      "---------\n",
      "  |   | X\n",
      "---------\n",
      "Computer placed 'O' at position (1, 0)\n",
      "X |   |  \n",
      "---------\n",
      "O | O |  \n",
      "---------\n",
      "  |   | X\n",
      "---------\n"
     ]
    },
    {
     "name": "stdin",
     "output_type": "stream",
     "text": [
      "Enter the row (0, 1, 2):  1\n",
      "Enter the column (0, 1, 2):  2\n"
     ]
    },
    {
     "name": "stdout",
     "output_type": "stream",
     "text": [
      "X |   |  \n",
      "---------\n",
      "O | O | X\n",
      "---------\n",
      "  |   | X\n",
      "---------\n",
      "Computer placed 'O' at position (2, 1)\n",
      "X |   |  \n",
      "---------\n",
      "O | O | X\n",
      "---------\n",
      "  | O | X\n",
      "---------\n"
     ]
    },
    {
     "name": "stdin",
     "output_type": "stream",
     "text": [
      "Enter the row (0, 1, 2):  0\n",
      "Enter the column (0, 1, 2):  1\n"
     ]
    },
    {
     "name": "stdout",
     "output_type": "stream",
     "text": [
      "X | X |  \n",
      "---------\n",
      "O | O | X\n",
      "---------\n",
      "  | O | X\n",
      "---------\n",
      "Computer placed 'O' at position (2, 0)\n",
      "X | X |  \n",
      "---------\n",
      "O | O | X\n",
      "---------\n",
      "O | O | X\n",
      "---------\n"
     ]
    },
    {
     "name": "stdin",
     "output_type": "stream",
     "text": [
      "Enter the row (0, 1, 2):  0\n",
      "Enter the column (0, 1, 2):  2\n"
     ]
    },
    {
     "name": "stdout",
     "output_type": "stream",
     "text": [
      "X | X | X\n",
      "---------\n",
      "O | O | X\n",
      "---------\n",
      "O | O | X\n",
      "---------\n",
      "Congratulations! You won!\n"
     ]
    }
   ],
   "source": [
    "import random\n",
    "\n",
    "def display_board(board):\n",
    "    for row in board:\n",
    "        print(\" | \".join(row))\n",
    "        print(\"-\" * 9)\n",
    "\n",
    "def check_winner(board):\n",
    "    # Check rows, columns, and diagonals for a win\n",
    "    for row in board:\n",
    "        if row.count(row[0]) == len(row) and row[0] != ' ':\n",
    "            return True\n",
    "\n",
    "    for col in range(len(board)):\n",
    "        if board[0][col] == board[1][col] == board[2][col] and board[0][col] != ' ':\n",
    "            return True\n",
    "\n",
    "    if board[0][0] == board[1][1] == board[2][2] and board[0][0] != ' ':\n",
    "        return True\n",
    "    if board[0][2] == board[1][1] == board[2][0] and board[0][2] != ' ':\n",
    "        return True\n",
    "\n",
    "    return False\n",
    "\n",
    "def computer_move(board):\n",
    "    empty_spaces = [(i, j) for i in range(3) for j in range(3) if board[i][j] == ' ']\n",
    "    return random.choice(empty_spaces)\n",
    "\n",
    "def tic_tac_toe():\n",
    "    board = [[' ' for _ in range(3)] for _ in range(3)]\n",
    "    player = 'X'\n",
    "    game_over = False\n",
    "\n",
    "    while not game_over:\n",
    "        display_board(board)\n",
    "\n",
    "        if player == 'X':\n",
    "            while True:\n",
    "                row = int(input(\"Enter the row (0, 1, 2): \"))\n",
    "                col = int(input(\"Enter the column (0, 1, 2): \"))\n",
    "                if board[row][col] == ' ':\n",
    "                    board[row][col] = 'X'\n",
    "                    break\n",
    "                else:\n",
    "                    print(\"That spot is already taken! Try again.\")\n",
    "        else:\n",
    "            row, col = computer_move(board)\n",
    "            board[row][col] = 'O'\n",
    "            print(f\"Computer placed 'O' at position ({row}, {col})\")\n",
    "\n",
    "        if check_winner(board):\n",
    "            display_board(board)\n",
    "            if player == 'X':\n",
    "                print(\"Congratulations! You won!\")\n",
    "            else:\n",
    "                print(\"Computer wins! Better luck next time.\")\n",
    "            game_over = True\n",
    "        elif all(board[i][j] != ' ' for i in range(3) for j in range(3)):\n",
    "            display_board(board)\n",
    "            print(\"It's a tie!\")\n",
    "            game_over = True\n",
    "\n",
    "        player = 'O' if player == 'X' else 'X'\n",
    "\n",
    "tic_tac_toe()\n"
   ]
  },
  {
   "cell_type": "markdown",
   "id": "44dd62ce-10b6-4992-ad6b-09c51d543cbf",
   "metadata": {},
   "source": [
    "## solution for problem 36."
   ]
  },
  {
   "cell_type": "code",
   "execution_count": 36,
   "id": "f7a516eb-dffd-460e-847b-12a7302d5bb8",
   "metadata": {},
   "outputs": [
    {
     "name": "stdin",
     "output_type": "stream",
     "text": [
      "Enter the number of terms for the Fibonacci sequence:  8\n"
     ]
    },
    {
     "name": "stdout",
     "output_type": "stream",
     "text": [
      "[0, 1, 1, 2, 3, 5, 8, 13]\n"
     ]
    }
   ],
   "source": [
    "n = int(input(\"Enter the number of terms for the Fibonacci sequence: \"))\n",
    "fibonacci_sequence = []\n",
    "a, b = 0, 1\n",
    "for _ in range(n):\n",
    "    fibonacci_sequence.append(a)\n",
    "    a, b = b, a + b\n",
    "print(fibonacci_sequence)"
   ]
  },
  {
   "cell_type": "markdown",
   "id": "f8342512-c8c4-4d88-830c-14cc6e3b4070",
   "metadata": {},
   "source": [
    "## solution for problem 37."
   ]
  },
  {
   "cell_type": "code",
   "execution_count": 39,
   "id": "7968ae38-1678-42c2-9e17-e138e404e11c",
   "metadata": {},
   "outputs": [
    {
     "name": "stdin",
     "output_type": "stream",
     "text": [
      "Enter the number of terms for the Fibonacci sequence:  8\n"
     ]
    },
    {
     "name": "stdout",
     "output_type": "stream",
     "text": [
      "[0, 1, 1, 2, 3, 5, 8, 13]\n"
     ]
    }
   ],
   "source": [
    "n = int(input(\"Enter the number of terms for the Fibonacci sequence: \"))\n",
    "fibonacci_sequence = [None] * (n)\n",
    "fibonacci_sequence[0] = 0\n",
    "fibonacci_sequence[1] = 1\n",
    "for i in range(2, n):\n",
    "    fibonacci_sequence[i] = fibonacci_sequence[i-1] + fibonacci_sequence[i-2]\n",
    "\n",
    "print(fibonacci_sequence)"
   ]
  },
  {
   "cell_type": "markdown",
   "id": "5f0912a6-ee2e-43a3-af0f-feb34bc03b91",
   "metadata": {},
   "source": [
    "## solution for problem 38."
   ]
  },
  {
   "cell_type": "code",
   "execution_count": 42,
   "id": "74cae011-2429-4695-998a-6f90493f5124",
   "metadata": {},
   "outputs": [
    {
     "name": "stdin",
     "output_type": "stream",
     "text": [
      "Enter the year:  2024\n",
      "Enter the month (1-12):  1\n"
     ]
    },
    {
     "name": "stdout",
     "output_type": "stream",
     "text": [
      "Calendar for 1 2024:\n",
      "-----------------------------\n",
      "Mon  Tue  Wed  Thu  Fri  Sat  Sun\n",
      " 1    2    3    4    5    6    7   \n",
      " 8    9   10   11   12   13   14   \n",
      "15   16   17   18   19   20   21   \n",
      "22   23   24   25   26   27   28   \n",
      "29   30   31                       \n"
     ]
    }
   ],
   "source": [
    "import calendar\n",
    "\n",
    "year = int(input(\"Enter the year: \"))\n",
    "month = int(input(\"Enter the month (1-12): \"))\n",
    "cal = calendar.monthcalendar(year, month)\n",
    "month_name = calendar.month_name[month]\n",
    "print(f\"Calendar for {month} {year}:\")\n",
    "print(\"-----------------------------\")\n",
    "print(\"Mon  Tue  Wed  Thu  Fri  Sat  Sun\")\n",
    "\n",
    "for week in cal:\n",
    "    week_str = ''\n",
    "    for day in week:\n",
    "        if day == 0:\n",
    "            week_str += '     '\n",
    "        else:\n",
    "            week_str += f'{day:2}   '\n",
    "    print(week_str)"
   ]
  },
  {
   "cell_type": "markdown",
   "id": "5f5312eb-3aff-48c5-bcab-66bb53fc5367",
   "metadata": {},
   "source": [
    "## solution for problem 39."
   ]
  },
  {
   "cell_type": "code",
   "execution_count": 43,
   "id": "9cfe31fa-2ce3-4873-9011-f6b4eb14bb43",
   "metadata": {},
   "outputs": [
    {
     "name": "stdout",
     "output_type": "stream",
     "text": [
      "Welcome to Blackjack!\n",
      "Your hand: [2, 10] - Total: 12\n"
     ]
    },
    {
     "name": "stdin",
     "output_type": "stream",
     "text": [
      "Do you want to hit or stand? (h/s):  h\n"
     ]
    },
    {
     "name": "stdout",
     "output_type": "stream",
     "text": [
      "Your hand: [2, 10, 10] - Total: 22\n",
      "Bust! You lose.\n"
     ]
    }
   ],
   "source": [
    "import random\n",
    "\n",
    "def deal_card():\n",
    "    cards = [2, 3, 4, 5, 6, 7, 8, 9, 10, 10, 10, 10, 11]  # 11 represents Ace\n",
    "    return random.choice(cards)\n",
    "\n",
    "def calculate_hand(hand):\n",
    "    if sum(hand) > 21 and 11 in hand:  # If sum exceeds 21 and Ace is present, consider Ace as 1 instead of 11\n",
    "        hand.remove(11)\n",
    "        hand.append(1)\n",
    "    return sum(hand)\n",
    "\n",
    "def display_hand(hand):\n",
    "    print(f\"Your hand: {hand} - Total: {calculate_hand(hand)}\")\n",
    "\n",
    "def blackjack():\n",
    "    print(\"Welcome to Blackjack!\")\n",
    "    player_hand = [deal_card(), deal_card()]\n",
    "    dealer_hand = [deal_card()]\n",
    "\n",
    "    display_hand(player_hand)\n",
    "\n",
    "    while calculate_hand(player_hand) < 21:\n",
    "        action = input(\"Do you want to hit or stand? (h/s): \").lower()\n",
    "\n",
    "        if action == 'h':\n",
    "            player_hand.append(deal_card())\n",
    "            display_hand(player_hand)\n",
    "        elif action == 's':\n",
    "            break\n",
    "\n",
    "    player_total = calculate_hand(player_hand)\n",
    "    if player_total > 21:\n",
    "        print(\"Bust! You lose.\")\n",
    "    else:\n",
    "        print(\"\\nDealer's turn...\")\n",
    "        while calculate_hand(dealer_hand) < 17:\n",
    "            dealer_hand.append(deal_card())\n",
    "\n",
    "        display_hand(dealer_hand)\n",
    "        dealer_total = calculate_hand(dealer_hand)\n",
    "\n",
    "        if dealer_total > 21:\n",
    "            print(\"Dealer busts! You win.\")\n",
    "        elif dealer_total >= player_total:\n",
    "            print(\"Dealer wins.\")\n",
    "        else:\n",
    "            print(\"You win!\")\n",
    "\n",
    "# Start the blackjack game\n",
    "blackjack()\n"
   ]
  },
  {
   "cell_type": "markdown",
   "id": "c5ec2a74-21be-49c0-b45d-e3a364b242ed",
   "metadata": {},
   "source": [
    "## solution for problem 40."
   ]
  },
  {
   "cell_type": "code",
   "execution_count": 46,
   "id": "04f60e0c-f1e1-4bf6-b298-eaf7919cba51",
   "metadata": {},
   "outputs": [
    {
     "name": "stdin",
     "output_type": "stream",
     "text": [
      "Enter a number to find its prime factors:  20\n"
     ]
    },
    {
     "data": {
      "text/plain": [
       "[2, 2, 5]"
      ]
     },
     "execution_count": 46,
     "metadata": {},
     "output_type": "execute_result"
    }
   ],
   "source": [
    "number = int(input(\"Enter a number to find its prime factors: \"))\n",
    "factors = []\n",
    "divisor = 2\n",
    "while number > 1:\n",
    "    while number % divisor == 0:\n",
    "        factors.append(divisor)\n",
    "        number //= divisor\n",
    "    divisor += 1\n",
    "\n",
    "factors"
   ]
  },
  {
   "cell_type": "code",
   "execution_count": null,
   "id": "c2dc3c73-518c-4c94-a0b4-71e8e030bce8",
   "metadata": {},
   "outputs": [],
   "source": []
  }
 ],
 "metadata": {
  "kernelspec": {
   "display_name": "Python 3 (ipykernel)",
   "language": "python",
   "name": "python3"
  },
  "language_info": {
   "codemirror_mode": {
    "name": "ipython",
    "version": 3
   },
   "file_extension": ".py",
   "mimetype": "text/x-python",
   "name": "python",
   "nbconvert_exporter": "python",
   "pygments_lexer": "ipython3",
   "version": "3.10.8"
  }
 },
 "nbformat": 4,
 "nbformat_minor": 5
}
