{
 "cells": [
  {
   "cell_type": "markdown",
   "id": "02842d40-b40d-4e8a-a70c-42b35b6b9ded",
   "metadata": {},
   "source": [
    "# TOPIC: Python Basics Variable"
   ]
  },
  {
   "cell_type": "markdown",
   "id": "a5e8a98f-36d5-4c57-bd97-97a3423edea9",
   "metadata": {
    "tags": []
   },
   "source": [
    "## Code For Question 1"
   ]
  },
  {
   "cell_type": "code",
   "execution_count": 53,
   "id": "eb2e7ff1-4e86-4d32-8eea-0d30484b9ee6",
   "metadata": {},
   "outputs": [],
   "source": [
    "#defining variables\n",
    "x, y = 12, 20"
   ]
  },
  {
   "cell_type": "code",
   "execution_count": 54,
   "id": "26de26d4-2ad5-4a81-b8ff-d64ac8d10000",
   "metadata": {},
   "outputs": [
    {
     "data": {
      "text/plain": [
       "12"
      ]
     },
     "execution_count": 54,
     "metadata": {},
     "output_type": "execute_result"
    }
   ],
   "source": [
    "x"
   ]
  },
  {
   "cell_type": "code",
   "execution_count": 55,
   "id": "5cba146a-3a32-4928-9099-9777863268ed",
   "metadata": {},
   "outputs": [
    {
     "data": {
      "text/plain": [
       "20"
      ]
     },
     "execution_count": 55,
     "metadata": {},
     "output_type": "execute_result"
    }
   ],
   "source": [
    "y"
   ]
  },
  {
   "cell_type": "code",
   "execution_count": 56,
   "id": "aa539852-1770-48b4-83d1-6b42c037ffe8",
   "metadata": {},
   "outputs": [],
   "source": [
    "#swapping variables\n",
    "x, y = y, x"
   ]
  },
  {
   "cell_type": "code",
   "execution_count": 57,
   "id": "fa88fef3-e54e-4286-af39-6b717e522e27",
   "metadata": {},
   "outputs": [
    {
     "data": {
      "text/plain": [
       "20"
      ]
     },
     "execution_count": 57,
     "metadata": {},
     "output_type": "execute_result"
    }
   ],
   "source": [
    "x"
   ]
  },
  {
   "cell_type": "code",
   "execution_count": 58,
   "id": "c0347f02-5c0e-4ddd-a813-eb7c0ecb3314",
   "metadata": {},
   "outputs": [
    {
     "data": {
      "text/plain": [
       "12"
      ]
     },
     "execution_count": 58,
     "metadata": {},
     "output_type": "execute_result"
    }
   ],
   "source": [
    "y"
   ]
  },
  {
   "cell_type": "markdown",
   "id": "640b9c8d-59a8-4dc6-89e7-ba081894e74e",
   "metadata": {},
   "source": [
    "Explaination: \n",
    "In first line I initialize two variables x and y with 12 and 20 respectively.\n",
    "then I printed them, then I swapped them without using any temporary variables."
   ]
  },
  {
   "cell_type": "markdown",
   "id": "80020317-daab-4601-ad10-86a1485f0664",
   "metadata": {},
   "source": [
    "## Code for Question 2"
   ]
  },
  {
   "cell_type": "code",
   "execution_count": 59,
   "id": "8f97d029-f581-458e-bde7-02cb843fe13e",
   "metadata": {},
   "outputs": [
    {
     "name": "stdin",
     "output_type": "stream",
     "text": [
      "Enter the length of the rectangle:  10\n",
      "Enter the width of the rectangle:  20\n"
     ]
    }
   ],
   "source": [
    "# Taking user input for length and width\n",
    "length = float(input(\"Enter the length of the rectangle: \"))\n",
    "width = float(input(\"Enter the width of the rectangle: \"))"
   ]
  },
  {
   "cell_type": "code",
   "execution_count": 60,
   "id": "b2750b14-9876-4555-bf28-7535994a3f82",
   "metadata": {},
   "outputs": [],
   "source": [
    "#calculationg Area\n",
    "area = length * width"
   ]
  },
  {
   "cell_type": "code",
   "execution_count": 61,
   "id": "7c797777-8146-4720-a4ea-a7dad106bd6d",
   "metadata": {},
   "outputs": [
    {
     "data": {
      "text/plain": [
       "200.0"
      ]
     },
     "execution_count": 61,
     "metadata": {},
     "output_type": "execute_result"
    }
   ],
   "source": [
    "area"
   ]
  },
  {
   "cell_type": "markdown",
   "id": "e03e637f-6b6a-424a-8f51-a75ad98f1ce0",
   "metadata": {},
   "source": [
    "Explaination:\n",
    "first I took input for length and width of rectangle from user and stored into variables length and width, then I calculated area by multiplying them and then I stored into a variable area."
   ]
  },
  {
   "cell_type": "markdown",
   "id": "0a8da68b-12de-4076-b2cf-3f76800b0283",
   "metadata": {},
   "source": [
    "## Code for Question 3"
   ]
  },
  {
   "cell_type": "code",
   "execution_count": 62,
   "id": "3a23236c-25ed-4dd1-9650-30955e5940e1",
   "metadata": {},
   "outputs": [
    {
     "name": "stdin",
     "output_type": "stream",
     "text": [
      "Enter the temperature in Celsius:  0\n"
     ]
    }
   ],
   "source": [
    "# Taking user input for temperature in Celsius\n",
    "celsius = float(input(\"Enter the temperature in Celsius: \"))"
   ]
  },
  {
   "cell_type": "code",
   "execution_count": 63,
   "id": "db40e7f7-4c68-41fe-bc7c-6ad438034a20",
   "metadata": {},
   "outputs": [],
   "source": [
    "# Converting Celsius to Fahrenheit\n",
    "fahrenheit = (celsius * 9/5) + 32"
   ]
  },
  {
   "cell_type": "code",
   "execution_count": 64,
   "id": "7f4bfdf9-24ae-4d22-aacc-167f9aa25ae4",
   "metadata": {},
   "outputs": [
    {
     "data": {
      "text/plain": [
       "32.0"
      ]
     },
     "execution_count": 64,
     "metadata": {},
     "output_type": "execute_result"
    }
   ],
   "source": [
    "fahrenheit"
   ]
  },
  {
   "cell_type": "markdown",
   "id": "1e22f5de-b426-4c7a-b228-e1c029dcb502",
   "metadata": {},
   "source": [
    "# TOPIC: String Based Questions"
   ]
  },
  {
   "cell_type": "markdown",
   "id": "bfa4b610-667b-4f4d-921c-f6569ae58374",
   "metadata": {},
   "source": [
    "## Code for Question 1"
   ]
  },
  {
   "cell_type": "code",
   "execution_count": 65,
   "id": "8c63980f-120d-45fe-ae53-78c0659c6e4b",
   "metadata": {},
   "outputs": [
    {
     "name": "stdin",
     "output_type": "stream",
     "text": [
      "Enter a string:  hello world\n"
     ]
    },
    {
     "name": "stdout",
     "output_type": "stream",
     "text": [
      "lenth of the string hello world is:  11\n"
     ]
    }
   ],
   "source": [
    "# Taking user input for a string\n",
    "user_input = input(\"Enter a string: \")\n",
    "\n",
    "# printing the length of the string\n",
    "print(\"length of the string \" + user_input + \" is: \", len(user_input))"
   ]
  },
  {
   "cell_type": "markdown",
   "id": "a4a918ba-c81b-4d11-a522-65590a434ffe",
   "metadata": {},
   "source": [
    "## Code for Question 2"
   ]
  },
  {
   "cell_type": "code",
   "execution_count": 66,
   "id": "2b26d766-20bd-4bf9-9c65-598fa7e2e49e",
   "metadata": {},
   "outputs": [
    {
     "name": "stdin",
     "output_type": "stream",
     "text": [
      "Enter a sentence:  hello world\n"
     ]
    }
   ],
   "source": [
    "# Taking user input for a sentence\n",
    "user_sentence = input(\"Enter a sentence: \")"
   ]
  },
  {
   "cell_type": "code",
   "execution_count": 67,
   "id": "34e6f4e7-302e-4991-ba63-befa3819f8ef",
   "metadata": {},
   "outputs": [],
   "source": [
    "vowel_count = 0\n",
    "vowels = \"aeiouAEIOU\""
   ]
  },
  {
   "cell_type": "code",
   "execution_count": 68,
   "id": "554b0878-624c-4c17-977b-9864d2ef237e",
   "metadata": {},
   "outputs": [],
   "source": [
    "for char in user_sentence:\n",
    "    if char in vowels:\n",
    "        vowel_count += 1"
   ]
  },
  {
   "cell_type": "code",
   "execution_count": 69,
   "id": "c20de731-4e4d-4525-908d-cbe93fa2a9a9",
   "metadata": {},
   "outputs": [
    {
     "data": {
      "text/plain": [
       "3"
      ]
     },
     "execution_count": 69,
     "metadata": {},
     "output_type": "execute_result"
    }
   ],
   "source": [
    "vowel_count"
   ]
  },
  {
   "cell_type": "markdown",
   "id": "a6a9491e-615b-46ce-a8b5-9cd078f140c2",
   "metadata": {},
   "source": [
    "## Code for Question 3"
   ]
  },
  {
   "cell_type": "code",
   "execution_count": 70,
   "id": "b593fc61-454c-40ac-9e90-1a66f8be86a7",
   "metadata": {},
   "outputs": [
    {
     "name": "stdin",
     "output_type": "stream",
     "text": [
      "Enter a sentence:  hello world\n"
     ]
    }
   ],
   "source": [
    "# Taking user input for a sentence\n",
    "user_sentence = input(\"Enter a sentence: \")"
   ]
  },
  {
   "cell_type": "code",
   "execution_count": 71,
   "id": "2de8f87e-86b5-4057-af75-d4943cc6e3b9",
   "metadata": {},
   "outputs": [
    {
     "data": {
      "text/plain": [
       "'dlrow olleh'"
      ]
     },
     "execution_count": 71,
     "metadata": {},
     "output_type": "execute_result"
    }
   ],
   "source": [
    "reversed_string = user_sentence[::-1]\n",
    "reversed_string"
   ]
  },
  {
   "cell_type": "markdown",
   "id": "2074d6f0-d0cc-4324-842f-c02f7682b2df",
   "metadata": {},
   "source": [
    "## Code for Question 4"
   ]
  },
  {
   "cell_type": "code",
   "execution_count": 72,
   "id": "a1827133-cc03-4af3-81ef-48925b29fdad",
   "metadata": {},
   "outputs": [
    {
     "name": "stdin",
     "output_type": "stream",
     "text": [
      "Enter a string:  hello world\n"
     ]
    }
   ],
   "source": [
    "# Taking user input for a string\n",
    "user_input = input(\"Enter a string: \")\n",
    "user_input = user_input.replace(\" \", \"\").lower()"
   ]
  },
  {
   "cell_type": "code",
   "execution_count": 73,
   "id": "04352335-6ded-4b23-82ea-b2a92813094b",
   "metadata": {},
   "outputs": [],
   "source": [
    "# Reverse the string\n",
    "reversed_string = user_input[::-1]"
   ]
  },
  {
   "cell_type": "code",
   "execution_count": 74,
   "id": "eb20f2f5-e411-4b27-865e-5444c5349e3d",
   "metadata": {},
   "outputs": [
    {
     "name": "stdout",
     "output_type": "stream",
     "text": [
      "given string is not a palindrome\n"
     ]
    }
   ],
   "source": [
    "# Check if the string and its reverse are the same\n",
    "if user_input == reversed_string:\n",
    "    print(\"given string is a palindrome\")\n",
    "else:\n",
    "    print(\"given string is not a palindrome\")"
   ]
  },
  {
   "cell_type": "markdown",
   "id": "ffaefe5a-3d03-47dd-93f2-7702c9d756ee",
   "metadata": {},
   "source": [
    "## Code for Question 5"
   ]
  },
  {
   "cell_type": "code",
   "execution_count": null,
   "id": "de5dc3bc-308c-4449-84ba-dd016c5a4923",
   "metadata": {},
   "outputs": [],
   "source": [
    "# Taking user input for a string\n",
    "user_input = input(\"Enter a string: \")\n",
    "modified_string = user_input.replace(\" \", \"\")\n",
    "print(\"The modified string without spaces is: \", modified_string)"
   ]
  },
  {
   "cell_type": "code",
   "execution_count": null,
   "id": "0f086817-a8a1-4a79-a060-eeafb4e29737",
   "metadata": {},
   "outputs": [],
   "source": []
  }
 ],
 "metadata": {
  "kernelspec": {
   "display_name": "Python 3 (ipykernel)",
   "language": "python",
   "name": "python3"
  },
  "language_info": {
   "codemirror_mode": {
    "name": "ipython",
    "version": 3
   },
   "file_extension": ".py",
   "mimetype": "text/x-python",
   "name": "python",
   "nbconvert_exporter": "python",
   "pygments_lexer": "ipython3",
   "version": "3.10.8"
  }
 },
 "nbformat": 4,
 "nbformat_minor": 5
}
