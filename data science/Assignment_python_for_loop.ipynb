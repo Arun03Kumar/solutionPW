{
 "cells": [
  {
   "cell_type": "markdown",
   "id": "cd56f2fd-7ac8-4ecd-87a1-50c13b62a9da",
   "metadata": {},
   "source": [
    "# BASIC"
   ]
  },
  {
   "cell_type": "markdown",
   "id": "aa9a8c68-bf5f-464b-9ab2-8eeb4c532f02",
   "metadata": {},
   "source": [
    "## Solution for problem 1."
   ]
  },
  {
   "cell_type": "code",
   "execution_count": 1,
   "id": "66d211a6-1ece-4fae-942c-1817d8112456",
   "metadata": {},
   "outputs": [
    {
     "name": "stdout",
     "output_type": "stream",
     "text": [
      "1\n",
      "2\n",
      "3\n",
      "4\n",
      "5\n",
      "6\n",
      "7\n",
      "8\n",
      "9\n",
      "10\n"
     ]
    }
   ],
   "source": [
    "for i in range(1, 11):\n",
    "    print(i)"
   ]
  },
  {
   "cell_type": "markdown",
   "id": "ff7231e9-5171-47c0-b30e-71123f9019b5",
   "metadata": {},
   "source": [
    "## solution for problem 2."
   ]
  },
  {
   "cell_type": "code",
   "execution_count": 3,
   "id": "d8da42ae-54f0-4a20-accc-94aba2956067",
   "metadata": {},
   "outputs": [
    {
     "data": {
      "text/plain": [
       "45"
      ]
     },
     "execution_count": 3,
     "metadata": {},
     "output_type": "execute_result"
    }
   ],
   "source": [
    "lst = list(range(10))\n",
    "sm = 0\n",
    "for i in lst:\n",
    "    sm += i\n",
    "sm"
   ]
  },
  {
   "cell_type": "markdown",
   "id": "e758daaa-5c3d-4fab-9684-482f94ec3e1a",
   "metadata": {},
   "source": [
    "## solution for problem 3."
   ]
  },
  {
   "cell_type": "code",
   "execution_count": 4,
   "id": "b5fce966-50df-41bc-8880-e53b71bc05c0",
   "metadata": {},
   "outputs": [
    {
     "name": "stdout",
     "output_type": "stream",
     "text": [
      "d\n",
      "l\n",
      "r\n",
      "o\n",
      "w\n",
      " \n",
      "o\n",
      "l\n",
      "l\n",
      "e\n",
      "H\n"
     ]
    }
   ],
   "source": [
    "string = \"Hello world\"\n",
    "for i in string[::-1]:\n",
    "    print(i)"
   ]
  },
  {
   "cell_type": "markdown",
   "id": "360ec0e4-6434-4e9c-9e31-26b26ade526e",
   "metadata": {},
   "source": [
    "## solution for problem 4."
   ]
  },
  {
   "cell_type": "code",
   "execution_count": 6,
   "id": "b741d052-86ac-467b-a5bf-0f62ae4424b6",
   "metadata": {},
   "outputs": [
    {
     "name": "stdin",
     "output_type": "stream",
     "text": [
      "Enter a number 5\n"
     ]
    },
    {
     "data": {
      "text/plain": [
       "120"
      ]
     },
     "execution_count": 6,
     "metadata": {},
     "output_type": "execute_result"
    }
   ],
   "source": [
    "num = int(input(\"Enter a number\"))\n",
    "factorial = 1\n",
    "for i in range(1, num+1):\n",
    "    factorial *= i\n",
    "factorial"
   ]
  },
  {
   "cell_type": "markdown",
   "id": "c2024eff-78f7-4c49-a15b-2600b083fbb6",
   "metadata": {},
   "source": [
    "## solution for problem 5."
   ]
  },
  {
   "cell_type": "code",
   "execution_count": 7,
   "id": "0a484212-9f2d-4a0a-83b0-2df3d8a9574e",
   "metadata": {},
   "outputs": [
    {
     "name": "stdin",
     "output_type": "stream",
     "text": [
      "Enter a number 15\n"
     ]
    },
    {
     "name": "stdout",
     "output_type": "stream",
     "text": [
      "15\n",
      "30\n",
      "45\n",
      "60\n",
      "75\n",
      "90\n",
      "105\n",
      "120\n",
      "135\n",
      "150\n"
     ]
    }
   ],
   "source": [
    "num = int(input(\"Enter a number\"))\n",
    "for i in range(1, 11):\n",
    "    print(num * i)"
   ]
  },
  {
   "cell_type": "markdown",
   "id": "2d83c0b4-181e-472a-9003-cbf4b07edabe",
   "metadata": {},
   "source": [
    "## solution for problem 6."
   ]
  },
  {
   "cell_type": "code",
   "execution_count": 8,
   "id": "46850c72-ad25-4f80-90eb-8a6af1ec4e5a",
   "metadata": {},
   "outputs": [
    {
     "name": "stdout",
     "output_type": "stream",
     "text": [
      "even numbers are 45\n",
      "odd numbers are 45\n"
     ]
    }
   ],
   "source": [
    "lst = list(range(10, 100))\n",
    "even, odd = 0, 0\n",
    "for i in lst:\n",
    "    if i % 2 == 0:\n",
    "        even += 1\n",
    "    else:\n",
    "        odd += 1\n",
    "print(f\"even numbers are {even}\")\n",
    "print(f\"odd numbers are {odd}\")"
   ]
  },
  {
   "cell_type": "markdown",
   "id": "b17ef38a-fb9f-4410-9fc2-b8aa8b6fee93",
   "metadata": {},
   "source": [
    "## solution for problem 7."
   ]
  },
  {
   "cell_type": "code",
   "execution_count": 9,
   "id": "1498daa3-4b23-437f-ac78-d8fe938aa902",
   "metadata": {},
   "outputs": [
    {
     "name": "stdout",
     "output_type": "stream",
     "text": [
      "1\n",
      "4\n",
      "9\n",
      "16\n",
      "25\n"
     ]
    }
   ],
   "source": [
    "for i in range(1, 6):\n",
    "    print(i*i)"
   ]
  },
  {
   "cell_type": "markdown",
   "id": "c6fe9712-a9cf-49f4-bf0f-c1bceb8de4e8",
   "metadata": {},
   "source": [
    "## solution for problem 8."
   ]
  },
  {
   "cell_type": "code",
   "execution_count": 10,
   "id": "0c0d1486-e20d-4f6b-9c81-8a4d75e9f14d",
   "metadata": {},
   "outputs": [
    {
     "name": "stdin",
     "output_type": "stream",
     "text": [
      "Enter a string Hello world\n"
     ]
    },
    {
     "name": "stdout",
     "output_type": "stream",
     "text": [
      "length of the given string is 11\n"
     ]
    }
   ],
   "source": [
    "input_string = input(\"Enter a string\")\n",
    "length = 0\n",
    "for _ in input_string:\n",
    "    length += 1\n",
    "print(f\"length of the given string is {length}\")"
   ]
  },
  {
   "cell_type": "markdown",
   "id": "9e03cb3c-619d-4f10-88c9-6b98294cbe37",
   "metadata": {},
   "source": [
    "## solution for problem 9."
   ]
  },
  {
   "cell_type": "code",
   "execution_count": 12,
   "id": "0982a99d-abd0-4c4e-97c6-c99c37967603",
   "metadata": {},
   "outputs": [
    {
     "name": "stdout",
     "output_type": "stream",
     "text": [
      "[2, 5, 8, 11, 14, 17, 20, 23, 26, 29, 32, 35, 38, 41, 44, 47, 50, 53, 56, 59, 62, 65, 68, 71, 74, 77, 80, 83, 86, 89, 92, 95, 98]\n",
      "average of the list is 50.0\n"
     ]
    }
   ],
   "source": [
    "lst = list(range(2, 100, 3))\n",
    "avg = 0\n",
    "for i in lst:\n",
    "    avg += i\n",
    "print(lst)\n",
    "print(f\"average of the list is {avg/len(lst)}\")"
   ]
  },
  {
   "cell_type": "markdown",
   "id": "15028cc1-3c6f-4971-81a3-a710762ba552",
   "metadata": {},
   "source": [
    "## solution of problem 10."
   ]
  },
  {
   "cell_type": "code",
   "execution_count": 20,
   "id": "82ac6240-862e-473a-afd2-df2b7fc270d8",
   "metadata": {},
   "outputs": [
    {
     "name": "stdin",
     "output_type": "stream",
     "text": [
      "Enter a number 10\n"
     ]
    },
    {
     "name": "stdout",
     "output_type": "stream",
     "text": [
      "0\n",
      "1\n",
      "1\n",
      "2\n",
      "3\n",
      "5\n",
      "8\n",
      "13\n",
      "21\n",
      "34\n"
     ]
    }
   ],
   "source": [
    "num = int(input(\"Enter a number\"))\n",
    "prev, nxt = 0, 1\n",
    "print(prev)\n",
    "print(nxt)\n",
    "for _ in range(num-2):\n",
    "    temp = prev + nxt\n",
    "    prev = nxt\n",
    "    nxt = temp\n",
    "    print(temp)"
   ]
  },
  {
   "cell_type": "markdown",
   "id": "9a4435e6-0c7b-4adc-b640-945580254802",
   "metadata": {},
   "source": [
    "# INTERMEDIATE LEVEL"
   ]
  },
  {
   "cell_type": "markdown",
   "id": "2c545033-42e2-4672-b60b-96cbd1b1ff6a",
   "metadata": {},
   "source": [
    "## solution for problem 11."
   ]
  },
  {
   "cell_type": "code",
   "execution_count": 25,
   "id": "efc483ab-4202-491d-ac5f-c53349a86dfa",
   "metadata": {},
   "outputs": [
    {
     "name": "stdout",
     "output_type": "stream",
     "text": [
      "Yes list contains the duplicate\n"
     ]
    }
   ],
   "source": [
    "lst = [2, 5, 3, 2, 4, 5, 5, 3, 9, 9]\n",
    "lst.sort()\n",
    "flag = False\n",
    "for i in range(len(lst)-1):\n",
    "    if lst[i+1] == lst[i]:\n",
    "        flag = True\n",
    "        break\n",
    "if flag:\n",
    "    print(\"Yes list contains the duplicate\")\n",
    "else:\n",
    "    print(\"No list does not contains the duplicate\")"
   ]
  },
  {
   "cell_type": "markdown",
   "id": "2e98cb2f-cd20-4626-8ec6-ec79b17f7e0e",
   "metadata": {},
   "source": [
    "## solution for problem 12."
   ]
  },
  {
   "cell_type": "code",
   "execution_count": 32,
   "id": "82639289-61b8-44db-bc9e-6b0aacfffcc9",
   "metadata": {},
   "outputs": [
    {
     "name": "stdin",
     "output_type": "stream",
     "text": [
      "Enter a number 100\n"
     ]
    },
    {
     "name": "stdout",
     "output_type": "stream",
     "text": [
      "1 2 3 5 7 11 13 17 19 23 29 31 37 41 43 47 53 59 61 67 71 73 79 83 89 97 "
     ]
    }
   ],
   "source": [
    "import math\n",
    "\n",
    "num = int(input(\"Enter a number\"))\n",
    "lst = [0]*(num+1)\n",
    "for i in range(2, int(math.sqrt(num))+1):\n",
    "    j = i\n",
    "    while j+i < len(lst):\n",
    "        j += i\n",
    "        lst[j] = True\n",
    "for i in range(1, len(lst)):\n",
    "    if lst[i] == 0:\n",
    "        print(i, end=\" \")"
   ]
  },
  {
   "cell_type": "markdown",
   "id": "abb8f045-0f40-4d83-a77f-5ee8d6bd58c5",
   "metadata": {},
   "source": [
    "## solution for problem 13."
   ]
  },
  {
   "cell_type": "code",
   "execution_count": 33,
   "id": "d60b76d5-8bb0-4ae7-919f-f4796f63a009",
   "metadata": {},
   "outputs": [
    {
     "name": "stdin",
     "output_type": "stream",
     "text": [
      "Enter the string hello World AbceE\n"
     ]
    },
    {
     "name": "stdout",
     "output_type": "stream",
     "text": [
      "count of vowels in given string is 6\n"
     ]
    }
   ],
   "source": [
    "string = input(\"Enter the string\")\n",
    "vowels = \"aeiouAEIOU\"\n",
    "count = 0\n",
    "for i in string:\n",
    "    if i in vowels:\n",
    "        count += 1\n",
    "print(f\"count of vowels in given string is {count}\")"
   ]
  },
  {
   "cell_type": "markdown",
   "id": "8a60872d-c11e-4425-8a0c-7e999a4e4a4d",
   "metadata": {},
   "source": [
    "## solution for problem 14."
   ]
  },
  {
   "cell_type": "code",
   "execution_count": 34,
   "id": "23d19281-40b9-4b9b-86be-5d301e88220c",
   "metadata": {},
   "outputs": [
    {
     "name": "stdout",
     "output_type": "stream",
     "text": [
      "maximum element in the given 2D list is 93\n"
     ]
    }
   ],
   "source": [
    "list_2D = [\n",
    "            [1, 2, 4, 7, 8],\n",
    "            [12, 76, 93, 11, 26],\n",
    "            [12, 37, 73, 88, 76],\n",
    "          ]\n",
    "mx = -100000\n",
    "for i in list_2D:\n",
    "    for j in i:\n",
    "        mx = max(mx, j)\n",
    "print(f\"maximum element in the given 2D list is {mx}\")"
   ]
  },
  {
   "cell_type": "markdown",
   "id": "62f111e9-fd16-428e-8db4-253e4aef3422",
   "metadata": {},
   "source": [
    "## solution for problem 15."
   ]
  },
  {
   "cell_type": "code",
   "execution_count": 42,
   "id": "8f13ffe7-8218-4461-b6bc-f132916c6e41",
   "metadata": {},
   "outputs": [
    {
     "name": "stdout",
     "output_type": "stream",
     "text": [
      "list after removing the specific element is [1, 3, 4, 5]\n"
     ]
    }
   ],
   "source": [
    "original_list = [1, 2, 3, 2, 4, 5, 2]\n",
    "element_to_remove = 2\n",
    "new_list = []\n",
    "for item in original_list:\n",
    "    if item != element_to_remove:\n",
    "        new_list.append(item)\n",
    "print(f\"list after removing the specific element is {new_list}\")"
   ]
  },
  {
   "cell_type": "markdown",
   "id": "21f926ea-c2b9-46fb-b660-a1cdb050f78a",
   "metadata": {},
   "source": [
    "## solution for problem 16."
   ]
  },
  {
   "cell_type": "code",
   "execution_count": 43,
   "id": "48d1a496-b6cc-4de1-b536-b492d43785a3",
   "metadata": {},
   "outputs": [
    {
     "name": "stdout",
     "output_type": "stream",
     "text": [
      "table of 1 : 1 2 3 4 5 6 7 8 9 10 \n",
      "table of 2 : 2 4 6 8 10 12 14 16 18 20 \n",
      "table of 3 : 3 6 9 12 15 18 21 24 27 30 \n",
      "table of 4 : 4 8 12 16 20 24 28 32 36 40 \n",
      "table of 5 : 5 10 15 20 25 30 35 40 45 50 \n"
     ]
    }
   ],
   "source": [
    "for i in range(1, 6):\n",
    "    print(f\"table of {i} :\", end=\" \")\n",
    "    for j in range(1, 11):\n",
    "        print(i*j, end=\" \")\n",
    "    print()"
   ]
  },
  {
   "cell_type": "markdown",
   "id": "8560427f-4c65-4a94-9da8-0d7b9f2719d8",
   "metadata": {},
   "source": [
    "## solution for problem 17."
   ]
  },
  {
   "cell_type": "code",
   "execution_count": 45,
   "id": "82fb4d67-8a4d-40d9-a66e-f03f89493775",
   "metadata": {},
   "outputs": [
    {
     "data": {
      "text/plain": [
       "[0.0, 20.0, 30.0, 40.0, 100.0]"
      ]
     },
     "execution_count": 45,
     "metadata": {},
     "output_type": "execute_result"
    }
   ],
   "source": [
    "fahrenheit_temperatures = [32, 68, 86, 104, 212]\n",
    "celsius_list = []\n",
    "for temp in fahrenheit_temperatures:\n",
    "    celsius = (temp - 32) * 5/9\n",
    "    celsius_list.append(celsius)\n",
    "celsius_list"
   ]
  },
  {
   "cell_type": "markdown",
   "id": "3f48826f-7f0f-4f25-8f2e-86cdaa9c542c",
   "metadata": {},
   "source": [
    "## solution for problem 18."
   ]
  },
  {
   "cell_type": "code",
   "execution_count": 46,
   "id": "ae1ffd74-0cd0-4804-83e1-cbabb654a698",
   "metadata": {},
   "outputs": [
    {
     "name": "stdout",
     "output_type": "stream",
     "text": [
      "list1: [2, 4, 6, 8, 10, 12, 14, 16, 18, 20, 22, 24, 26, 28]\n",
      "list2: [3, 6, 9, 12, 15, 18, 21, 24, 27, 30, 33, 36, 39]\n",
      "common elements: [6, 12, 18, 24]\n"
     ]
    }
   ],
   "source": [
    "list1 = list(range(2, 30, 2))\n",
    "list2 = list(range(3, 40, 3))\n",
    "common = []\n",
    "for i in list1:\n",
    "    if i in list2:\n",
    "        common.append(i)\n",
    "print(f\"list1: {list1}\")\n",
    "print(f\"list2: {list2}\")\n",
    "print(f\"common elements: {common}\")"
   ]
  },
  {
   "cell_type": "markdown",
   "id": "6267c290-7c6b-4cf0-9139-5e36e4f97963",
   "metadata": {},
   "source": [
    "## solutuon for problem 19."
   ]
  },
  {
   "cell_type": "code",
   "execution_count": 48,
   "id": "51e533d2-0c76-4b08-a7f2-e17341fb39d1",
   "metadata": {},
   "outputs": [
    {
     "name": "stdin",
     "output_type": "stream",
     "text": [
      "Enter a number 5\n"
     ]
    },
    {
     "name": "stdout",
     "output_type": "stream",
     "text": [
      "*\n",
      "**\n",
      "***\n",
      "****\n",
      "*****\n"
     ]
    }
   ],
   "source": [
    "num = int(input(\"Enter a number\"))\n",
    "for i in range(num):\n",
    "    for _ in range(i+1):\n",
    "        print(\"*\", end=\"\")\n",
    "    print()"
   ]
  },
  {
   "cell_type": "markdown",
   "id": "77fd6f5d-e31a-4ef0-ad74-8270dd0981c3",
   "metadata": {},
   "source": [
    "## solution for problem 20."
   ]
  },
  {
   "cell_type": "code",
   "execution_count": 54,
   "id": "8885cb44-1a4d-438e-a70c-6a43cd5f68ad",
   "metadata": {},
   "outputs": [
    {
     "name": "stdin",
     "output_type": "stream",
     "text": [
      "enter first number 36\n",
      "enter second number 48\n"
     ]
    },
    {
     "name": "stdout",
     "output_type": "stream",
     "text": [
      "GCD of 36 & 48 is 12\n"
     ]
    }
   ],
   "source": [
    "num1 = int(input(\"enter first number\"))\n",
    "num2 = int(input(\"enter second number\"))\n",
    "larger = max(num1, num2)\n",
    "shorter = min(num1, num2)\n",
    "while(shorter):\n",
    "    temp = larger\n",
    "    larger = shorter\n",
    "    shorter = temp % shorter\n",
    "print(f\"GCD of {num1} & {num2} is {larger}\")"
   ]
  },
  {
   "cell_type": "markdown",
   "id": "dd262d2e-f528-4172-9aff-7c5630727291",
   "metadata": {},
   "source": [
    "# ADVANCE LEVEL"
   ]
  },
  {
   "cell_type": "markdown",
   "id": "fdca6a1b-3986-4f46-97e4-312b50d2920c",
   "metadata": {},
   "source": [
    "## solution for problem 21."
   ]
  },
  {
   "cell_type": "code",
   "execution_count": 3,
   "id": "787c1014-0acd-4fdc-9325-af26f829b70a",
   "metadata": {},
   "outputs": [
    {
     "data": {
      "text/plain": [
       "[6, 7, 13, 20]"
      ]
     },
     "execution_count": 3,
     "metadata": {},
     "output_type": "execute_result"
    }
   ],
   "source": [
    "lst = [123, 43, 553, 884]\n",
    "lst2 = [sum(int(digit) for digit in str(i)) for i in lst]\n",
    "lst2"
   ]
  },
  {
   "cell_type": "markdown",
   "id": "ca6dce18-da0b-4660-a08f-91e916475ed2",
   "metadata": {},
   "source": [
    "## solution for problem 22."
   ]
  },
  {
   "cell_type": "code",
   "execution_count": 10,
   "id": "5138f076-2ac5-4bef-baa0-b475d627681b",
   "metadata": {},
   "outputs": [
    {
     "name": "stdin",
     "output_type": "stream",
     "text": [
      "Enter a number 100\n"
     ]
    },
    {
     "data": {
      "text/plain": [
       "[1, 2, 4, 5, 10, 20, 25, 50, 100]"
      ]
     },
     "execution_count": 10,
     "metadata": {},
     "output_type": "execute_result"
    }
   ],
   "source": [
    "num = int(input(\"Enter a number\"))\n",
    "factors = [i for i in range(1, num + 1) if num % i == 0]\n",
    "factors"
   ]
  },
  {
   "cell_type": "markdown",
   "id": "f194c53e-8563-4e44-be7f-63ef58ed0aae",
   "metadata": {},
   "source": [
    "## solution for problem 23."
   ]
  },
  {
   "cell_type": "code",
   "execution_count": 11,
   "id": "33862daa-529b-453a-bca2-72a8ecb79048",
   "metadata": {},
   "outputs": [
    {
     "data": {
      "text/plain": [
       "['@', '%', '$']"
      ]
     },
     "execution_count": 11,
     "metadata": {},
     "output_type": "execute_result"
    }
   ],
   "source": [
    "lst = ['hello', '@', 'world', '%', '$']\n",
    "lst2 = [i for i in lst if i.isalnum() == False]\n",
    "lst2"
   ]
  },
  {
   "cell_type": "markdown",
   "id": "3e5d114a-c960-44e1-8a25-893faa207db8",
   "metadata": {},
   "source": [
    "## solution for problem 24."
   ]
  },
  {
   "cell_type": "code",
   "execution_count": 16,
   "id": "96afae0b-8037-4b82-916a-737ee6e01978",
   "metadata": {},
   "outputs": [
    {
     "data": {
      "text/plain": [
       "[11,\n",
       " 22,\n",
       " 33,\n",
       " 44,\n",
       " 55,\n",
       " 66,\n",
       " 77,\n",
       " 88,\n",
       " 99,\n",
       " 101,\n",
       " 111,\n",
       " 121,\n",
       " 131,\n",
       " 141,\n",
       " 151,\n",
       " 161,\n",
       " 171,\n",
       " 181,\n",
       " 191]"
      ]
     },
     "execution_count": 16,
     "metadata": {},
     "output_type": "execute_result"
    }
   ],
   "source": [
    "lst = [i for i in range(10, 200) if str(i) == str(i)[::-1]]\n",
    "lst"
   ]
  },
  {
   "cell_type": "markdown",
   "id": "e9128fc9-e618-4315-b852-27a21b45c756",
   "metadata": {},
   "source": [
    "## solution for problem 25."
   ]
  },
  {
   "cell_type": "code",
   "execution_count": 31,
   "id": "a301ed8d-2874-4289-8e3c-37444c7897ef",
   "metadata": {},
   "outputs": [
    {
     "data": {
      "text/plain": [
       "[1, 2, 3, 4, 5, 6, 7, 8, 9, 10]"
      ]
     },
     "execution_count": 31,
     "metadata": {},
     "output_type": "execute_result"
    }
   ],
   "source": [
    "def flatten(nested):\n",
    "    return [element for sublist in nested for element in (flatten(sublist) if isinstance(sublist, list) else [sublist])]\n",
    "lst = [[1, 2, 3], [4, 5], [6], [7, [8, [9]], 10]]\n",
    "# lst2 = [el for sublist in lst for el in sublist]\n",
    "lst2 = flatten(lst)\n",
    "lst2"
   ]
  },
  {
   "cell_type": "markdown",
   "id": "b7259106-6c48-456e-b4f1-1275855add90",
   "metadata": {},
   "source": [
    "## solution for problem 26."
   ]
  },
  {
   "cell_type": "code",
   "execution_count": 39,
   "id": "9bf8c0fa-add6-4e0e-a0f6-3b7bd844afbc",
   "metadata": {},
   "outputs": [
    {
     "name": "stdout",
     "output_type": "stream",
     "text": [
      "[1, 2, 3, 4, 5, 6, 7, 8, 9, 10]\n",
      "sum of even numbers in the list is 30 ans sum of odd numbers in the given list is 25\n"
     ]
    }
   ],
   "source": [
    "lst = list(range(1, 11))\n",
    "even_sum = sum(x for x in lst if x % 2 == 0)\n",
    "odd_sum = sum(x for x in lst if x % 2 != 0)\n",
    "print(lst)\n",
    "print(f\"sum of even numbers in the list is {even_sum} ans sum of odd numbers in the given list is {odd_sum}\")"
   ]
  },
  {
   "cell_type": "markdown",
   "id": "1dfcaf9f-8a58-4a5b-ab81-ee932341938a",
   "metadata": {},
   "source": [
    "## solution for problem 27."
   ]
  },
  {
   "cell_type": "code",
   "execution_count": 41,
   "id": "73abdd83-e6c0-4a93-8da9-b0c605954764",
   "metadata": {},
   "outputs": [
    {
     "data": {
      "text/plain": [
       "[1, 9, 25, 49, 81]"
      ]
     },
     "execution_count": 41,
     "metadata": {},
     "output_type": "execute_result"
    }
   ],
   "source": [
    "lst = [i*i for i in range(1, 11) if i%2 != 0]\n",
    "lst"
   ]
  },
  {
   "cell_type": "markdown",
   "id": "63d17c17-aa89-4f20-b1e6-c0c71f31167d",
   "metadata": {},
   "source": [
    "## solution for problem 28."
   ]
  },
  {
   "cell_type": "code",
   "execution_count": 43,
   "id": "faec5c0f-902b-490c-aecd-57977b0afcef",
   "metadata": {},
   "outputs": [
    {
     "data": {
      "text/plain": [
       "{'key1': 'value1', 'key2': 'value2', 'key3': 'value3', 'key4': 'value4'}"
      ]
     },
     "execution_count": 43,
     "metadata": {},
     "output_type": "execute_result"
    }
   ],
   "source": [
    "list1 = [\"key1\", \"key2\", \"key3\", \"key4\"]\n",
    "list2 = [\"value1\", \"value2\", \"value3\", \"value4\"]\n",
    "\n",
    "combined_dict = {list1[i]: list2[i] for i in range(len(list1))}\n",
    "combined_dict"
   ]
  },
  {
   "cell_type": "markdown",
   "id": "54fdf64a-d4ad-4411-b642-245199206ab0",
   "metadata": {},
   "source": [
    "## solution for problem 29."
   ]
  },
  {
   "cell_type": "code",
   "execution_count": 45,
   "id": "dd0cfd1c-cbb1-4188-8b35-43b7a7d856f7",
   "metadata": {},
   "outputs": [
    {
     "data": {
      "text/plain": [
       "['e', 'o', 'o', 'I', 'a', 'A', 'u', 'u', 'a']"
      ]
     },
     "execution_count": 45,
     "metadata": {},
     "output_type": "execute_result"
    }
   ],
   "source": [
    "string = \"Hello World, I am Arun Kumar\"\n",
    "list_of_vowels = [i for i in string if i in \"aeiouAEIOU\"]\n",
    "list_of_vowels"
   ]
  },
  {
   "cell_type": "markdown",
   "id": "7fe52374-d308-4057-ac29-5b6a61916875",
   "metadata": {},
   "source": [
    "## solution for problem 30."
   ]
  },
  {
   "cell_type": "code",
   "execution_count": 50,
   "id": "d115d637-ad56-48ba-bb2d-849225036401",
   "metadata": {},
   "outputs": [
    {
     "data": {
      "text/plain": [
       "['12', '34', '4234', '43490']"
      ]
     },
     "execution_count": 50,
     "metadata": {},
     "output_type": "execute_result"
    }
   ],
   "source": [
    "lst = [\"ab12cd\", \"34af\", \"sa42sa34\", \"s43k490\"]\n",
    "list2 = [''.join(c for c in string if c.isdigit()) for string in lst]\n",
    "list2"
   ]
  },
  {
   "cell_type": "markdown",
   "id": "6012dabd-5b92-454f-af53-2ee1defae0ad",
   "metadata": {},
   "source": [
    "# CHALLENGE LEVEL"
   ]
  },
  {
   "cell_type": "markdown",
   "id": "311064cc-93bf-49f3-8337-ff49cbec8209",
   "metadata": {},
   "source": [
    "## solution for problem 31."
   ]
  },
  {
   "cell_type": "code",
   "execution_count": 54,
   "id": "817f5257-b537-47de-a46c-1e4e6f7224b4",
   "metadata": {},
   "outputs": [
    {
     "name": "stdin",
     "output_type": "stream",
     "text": [
      "ENter a value 50\n"
     ]
    },
    {
     "data": {
      "text/plain": [
       "[2, 3, 5, 7, 11, 13, 17, 19, 23, 29, 31, 37, 41, 43, 47]"
      ]
     },
     "execution_count": 54,
     "metadata": {},
     "output_type": "execute_result"
    }
   ],
   "source": [
    "num = int(input(\"ENter a value\"))\n",
    "prime = [True] * (num + 1)\n",
    "prime[0], prime[1] = False, False\n",
    "\n",
    "for i in range(2, int(num ** 0.5) + 1):\n",
    "    if prime[i]:\n",
    "        prime[i*i: num + 1: i] = [False] * len(prime[i*i: num + 1: i])\n",
    "prime_numbers = [i for i in range(num+1) if prime[i]]\n",
    "prime_numbers"
   ]
  },
  {
   "cell_type": "markdown",
   "id": "cd223f62-65e7-446b-b299-10ab21aa0f22",
   "metadata": {},
   "source": [
    "# solution for problem 32."
   ]
  },
  {
   "cell_type": "code",
   "execution_count": 55,
   "id": "1d4c6219-6859-4077-b955-9719311cf104",
   "metadata": {},
   "outputs": [
    {
     "name": "stdin",
     "output_type": "stream",
     "text": [
      "ENter a value 20\n"
     ]
    },
    {
     "data": {
      "text/plain": [
       "[(3, 4, 5), (5, 12, 13), (6, 8, 10), (8, 15, 17), (9, 12, 15), (12, 16, 20)]"
      ]
     },
     "execution_count": 55,
     "metadata": {},
     "output_type": "execute_result"
    }
   ],
   "source": [
    "num = int(input(\"ENter a value\"))\n",
    "lst = [(a, b, c) for a in range(1, num+1) for b in range(a, num+1) for c in range(b, num+1) if a*a + b*b == c*c]\n",
    "lst"
   ]
  },
  {
   "cell_type": "markdown",
   "id": "4558f636-e664-4960-ae09-96a04911fe4f",
   "metadata": {},
   "source": [
    "## solution for problem 33."
   ]
  },
  {
   "cell_type": "code",
   "execution_count": 56,
   "id": "20cf16d3-a6ff-4535-8988-10b7b7edac90",
   "metadata": {},
   "outputs": [
    {
     "data": {
      "text/plain": [
       "[[1, 'ad'],\n",
       " [1, 'dsfg'],\n",
       " [1, 're'],\n",
       " [1, 'Sf'],\n",
       " [4, 'ad'],\n",
       " [4, 'dsfg'],\n",
       " [4, 're'],\n",
       " [4, 'Sf'],\n",
       " [2, 'ad'],\n",
       " [2, 'dsfg'],\n",
       " [2, 're'],\n",
       " [2, 'Sf'],\n",
       " [15, 'ad'],\n",
       " [15, 'dsfg'],\n",
       " [15, 're'],\n",
       " [15, 'Sf'],\n",
       " [12, 'ad'],\n",
       " [12, 'dsfg'],\n",
       " [12, 're'],\n",
       " [12, 'Sf'],\n",
       " [342, 'ad'],\n",
       " [342, 'dsfg'],\n",
       " [342, 're'],\n",
       " [342, 'Sf']]"
      ]
     },
     "execution_count": 56,
     "metadata": {},
     "output_type": "execute_result"
    }
   ],
   "source": [
    "list1 = [1, 4, 2, 15, 12, 342]\n",
    "list2 = [\"ad\", \"dsfg\", \"re\" , \"Sf\"]\n",
    "comb = [[x, y] for x in list1 for y in list2]\n",
    "comb"
   ]
  },
  {
   "cell_type": "markdown",
   "id": "b5e117ee-2e88-4abd-88e5-af02943b35c5",
   "metadata": {},
   "source": [
    "## solution for problem 34."
   ]
  },
  {
   "cell_type": "code",
   "execution_count": 62,
   "id": "7be83205-b13f-4e28-953f-b44d62de8649",
   "metadata": {},
   "outputs": [
    {
     "name": "stdout",
     "output_type": "stream",
     "text": [
      "mean: 39.5\n",
      "median: [4]\n",
      "mode: 3\n"
     ]
    }
   ],
   "source": [
    "lst = [2, 4, 4, 1, 5, 6, 35, 5, 3, 2, 6, 3, 3, 543, 3, 7]\n",
    "mean = sum(x for x in lst) / len(lst)\n",
    "lst.sort()\n",
    "length = len(lst)\n",
    "median = [lst[length // 2] if length % 2 != 0 else (lst[length // 2 - 1] + lst[length // 2]) // 2]\n",
    "mode = max((lst.count(num), num) for num in set(lst))[1]\n",
    "print(f\"mean: {mean}\")\n",
    "print(f\"median: {median}\")\n",
    "print(f\"mode: {mode}\")"
   ]
  },
  {
   "cell_type": "markdown",
   "id": "6490568f-2021-4b91-86b7-077bd71b39ca",
   "metadata": {},
   "source": [
    "## solution for problem 35."
   ]
  },
  {
   "cell_type": "code",
   "execution_count": 65,
   "id": "03eff188-277d-4e24-abea-0cf873d01b73",
   "metadata": {},
   "outputs": [
    {
     "name": "stdin",
     "output_type": "stream",
     "text": [
      "Enter a number 10\n"
     ]
    },
    {
     "name": "stdout",
     "output_type": "stream",
     "text": [
      "             1             \n",
      "            1 1            \n",
      "           1 2 1           \n",
      "          1 3 3 1          \n",
      "         1 4 6 4 1         \n",
      "       1 5 10 10 5 1       \n",
      "      1 6 15 20 15 6 1     \n",
      "    1 7 21 35 35 21 7 1    \n",
      "   1 8 28 56 70 56 28 8 1  \n",
      "1 9 36 84 126 126 84 36 9 1\n"
     ]
    }
   ],
   "source": [
    "num_rows = int(input(\"Enter a number\"))\n",
    "triangle = [[1] * (i + 1) for i in range(num_rows)]   \n",
    "for i in range(2, num_rows):\n",
    "    for j in range(1, i):\n",
    "        triangle[i][j] = triangle[i - 1][j - 1] + triangle[i - 1][j]\n",
    "for row in triangle:\n",
    "    print(\" \".join(map(str, row)).center(len(\" \".join(map(str, triangle[-1])))))"
   ]
  },
  {
   "cell_type": "markdown",
   "id": "593ca51d-67ce-4691-8b00-dcdda3d45c09",
   "metadata": {},
   "source": [
    "## solution for problem 36."
   ]
  },
  {
   "cell_type": "code",
   "execution_count": 69,
   "id": "3aa6a9a8-c7ba-48d9-85ca-9e232717a68b",
   "metadata": {},
   "outputs": [
    {
     "name": "stdout",
     "output_type": "stream",
     "text": [
      "factorial list:  [1, 2, 6, 24, 120]\n",
      "sum of digits of factorial list:  [1, 2, 6, 6, 3]\n"
     ]
    }
   ],
   "source": [
    "import math\n",
    "fact = [math.factorial(i) for i in range(1, 6)]\n",
    "sum_of_factorial_digits = [sum(int(c) for c in str(math.factorial(i))) for i in range(1, 6)]\n",
    "print(\"factorial list: \", fact)\n",
    "print(\"sum of digits of factorial list: \", sum_of_factorial_digits)"
   ]
  },
  {
   "cell_type": "markdown",
   "id": "91f0bc9f-1c37-4deb-8d9e-29e3372f50bc",
   "metadata": {},
   "source": [
    "## solution for problem 37."
   ]
  },
  {
   "cell_type": "code",
   "execution_count": 79,
   "id": "5006a109-f36a-4cad-ab17-b52197e38ba2",
   "metadata": {},
   "outputs": [
    {
     "data": {
      "text/plain": [
       "'PWskills'"
      ]
     },
     "execution_count": 79,
     "metadata": {},
     "output_type": "execute_result"
    }
   ],
   "source": [
    "sentnece = \"This is my first course at PWskills\"\n",
    "longest = max((word for word in sentnece.split()), key=len)\n",
    "longest"
   ]
  },
  {
   "cell_type": "markdown",
   "id": "be061602-1a03-4ac3-91f7-812aaa45aaea",
   "metadata": {},
   "source": [
    "## solution for problem 38."
   ]
  },
  {
   "cell_type": "code",
   "execution_count": 81,
   "id": "754bc9d5-9f53-4123-971c-51ac7ddcbadc",
   "metadata": {},
   "outputs": [
    {
     "data": {
      "text/plain": [
       "['Heelloo', 'oooo']"
      ]
     },
     "execution_count": 81,
     "metadata": {},
     "output_type": "execute_result"
    }
   ],
   "source": [
    "lst = [\"Heelloo\", \"world\", \"oooo\", \"adf\", \"asdf\"]\n",
    "filtered = [c for c in lst if sum(1 for i in c if i in \"aeiouAEIOU\") > 3]\n",
    "filtered"
   ]
  },
  {
   "cell_type": "markdown",
   "id": "53d3752f-f06a-4657-a36b-aba5a6b1cb2a",
   "metadata": {},
   "source": [
    "## solution for problem 39."
   ]
  },
  {
   "cell_type": "code",
   "execution_count": 83,
   "id": "716fcf22-5407-43b5-9f7e-a06d2b6083a4",
   "metadata": {},
   "outputs": [
    {
     "name": "stdout",
     "output_type": "stream",
     "text": [
      "[1, 2, 3, 4, 5, 6, 7, 8, 9, 1, 2, 3, 4, 5, 6, 7, 8, 9, 10, 2, 3, 4, 5, 6, 7, 8, 9, 10, 11, 3, 4, 5, 6, 7, 8, 9, 10, 11, 12, 4, 5, 6, 7, 8, 9, 10, 11, 12, 13, 5, 6, 7, 8, 9, 10, 11, 12, 13, 14, 6, 7, 8, 9, 10, 11, 12, 13, 14, 15, 7, 8, 9, 10, 11, 12, 13, 14, 15, 16, 8, 9, 10, 11, 12, 13, 14, 15, 16, 17, 9, 10, 11, 12, 13, 14, 15, 16, 17, 18, 1, 2, 3, 4, 5, 6, 7, 8, 9, 10, 2, 3, 4, 5, 6, 7, 8, 9, 10, 11, 3, 4, 5, 6, 7, 8, 9, 10, 11, 12, 4, 5, 6, 7, 8, 9, 10, 11, 12, 13, 5, 6, 7, 8, 9, 10, 11, 12, 13, 14, 6, 7, 8, 9, 10, 11, 12, 13, 14, 15, 7, 8, 9, 10, 11, 12, 13, 14, 15, 16, 8, 9, 10, 11, 12, 13, 14, 15, 16, 17, 9, 10, 11, 12, 13, 14, 15, 16, 17, 18, 10, 11, 12, 13, 14, 15, 16, 17, 18, 19, 2, 3, 4, 5, 6, 7, 8, 9, 10, 11, 3, 4, 5, 6, 7, 8, 9, 10, 11, 12, 4, 5, 6, 7, 8, 9, 10, 11, 12, 13, 5, 6, 7, 8, 9, 10, 11, 12, 13, 14, 6, 7, 8, 9, 10, 11, 12, 13, 14, 15, 7, 8, 9, 10, 11, 12, 13, 14, 15, 16, 8, 9, 10, 11, 12, 13, 14, 15, 16, 17, 9, 10, 11, 12, 13, 14, 15, 16, 17, 18, 10, 11, 12, 13, 14, 15, 16, 17, 18, 19, 11, 12, 13, 14, 15, 16, 17, 18, 19, 20, 3, 4, 5, 6, 7, 8, 9, 10, 11, 12, 4, 5, 6, 7, 8, 9, 10, 11, 12, 13, 5, 6, 7, 8, 9, 10, 11, 12, 13, 14, 6, 7, 8, 9, 10, 11, 12, 13, 14, 15, 7, 8, 9, 10, 11, 12, 13, 14, 15, 16, 8, 9, 10, 11, 12, 13, 14, 15, 16, 17, 9, 10, 11, 12, 13, 14, 15, 16, 17, 18, 10, 11, 12, 13, 14, 15, 16, 17, 18, 19, 11, 12, 13, 14, 15, 16, 17, 18, 19, 20, 12, 13, 14, 15, 16, 17, 18, 19, 20, 21, 4, 5, 6, 7, 8, 9, 10, 11, 12, 13, 5, 6, 7, 8, 9, 10, 11, 12, 13, 14, 6, 7, 8, 9, 10, 11, 12, 13, 14, 15, 7, 8, 9, 10, 11, 12, 13, 14, 15, 16, 8, 9, 10, 11, 12, 13, 14, 15, 16, 17, 9, 10, 11, 12, 13, 14, 15, 16, 17, 18, 10, 11, 12, 13, 14, 15, 16, 17, 18, 19, 11, 12, 13, 14, 15, 16, 17, 18, 19, 20, 12, 13, 14, 15, 16, 17, 18, 19, 20, 21, 13, 14, 15, 16, 17, 18, 19, 20, 21, 22, 5, 6, 7, 8, 9, 10, 11, 12, 13, 14, 6, 7, 8, 9, 10, 11, 12, 13, 14, 15, 7, 8, 9, 10, 11, 12, 13, 14, 15, 16, 8, 9, 10, 11, 12, 13, 14, 15, 16, 17, 9, 10, 11, 12, 13, 14, 15, 16, 17, 18, 10, 11, 12, 13, 14, 15, 16, 17, 18, 19, 11, 12, 13, 14, 15, 16, 17, 18, 19, 20, 12, 13, 14, 15, 16, 17, 18, 19, 20, 21, 13, 14, 15, 16, 17, 18, 19, 20, 21, 22, 14, 15, 16, 17, 18, 19, 20, 21, 22, 23, 6, 7, 8, 9, 10, 11, 12, 13, 14, 15, 7, 8, 9, 10, 11, 12, 13, 14, 15, 16, 8, 9, 10, 11, 12, 13, 14, 15, 16, 17, 9, 10, 11, 12, 13, 14, 15, 16, 17, 18, 10, 11, 12, 13, 14, 15, 16, 17, 18, 19, 11, 12, 13, 14, 15, 16, 17, 18, 19, 20, 12, 13, 14, 15, 16, 17, 18, 19, 20, 21, 13, 14, 15, 16, 17, 18, 19, 20, 21, 22, 14, 15, 16, 17, 18, 19, 20, 21, 22, 23, 15, 16, 17, 18, 19, 20, 21, 22, 23, 24, 7, 8, 9, 10, 11, 12, 13, 14, 15, 16, 8, 9, 10, 11, 12, 13, 14, 15, 16, 17, 9, 10, 11, 12, 13, 14, 15, 16, 17, 18, 10, 11, 12, 13, 14, 15, 16, 17, 18, 19, 11, 12, 13, 14, 15, 16, 17, 18, 19, 20, 12, 13, 14, 15, 16, 17, 18, 19, 20, 21, 13, 14, 15, 16, 17, 18, 19, 20, 21, 22, 14, 15, 16, 17, 18, 19, 20, 21, 22, 23, 15, 16, 17, 18, 19, 20, 21, 22, 23, 24, 16, 17, 18, 19, 20, 21, 22, 23, 24, 25, 8, 9, 10, 11, 12, 13, 14, 15, 16, 17, 9, 10, 11, 12, 13, 14, 15, 16, 17, 18, 10, 11, 12, 13, 14, 15, 16, 17, 18, 19, 11, 12, 13, 14, 15, 16, 17, 18, 19, 20, 12, 13, 14, 15, 16, 17, 18, 19, 20, 21, 13, 14, 15, 16, 17, 18, 19, 20, 21, 22, 14, 15, 16, 17, 18, 19, 20, 21, 22, 23, 15, 16, 17, 18, 19, 20, 21, 22, 23, 24, 16, 17, 18, 19, 20, 21, 22, 23, 24, 25, 17, 18, 19, 20, 21, 22, 23, 24, 25, 26, 9, 10, 11, 12, 13, 14, 15, 16, 17, 18, 10, 11, 12, 13, 14, 15, 16, 17, 18, 19, 11, 12, 13, 14, 15, 16, 17, 18, 19, 20, 12, 13, 14, 15, 16, 17, 18, 19, 20, 21, 13, 14, 15, 16, 17, 18, 19, 20, 21, 22, 14, 15, 16, 17, 18, 19, 20, 21, 22, 23, 15, 16, 17, 18, 19, 20, 21, 22, 23, 24, 16, 17, 18, 19, 20, 21, 22, 23, 24, 25, 17, 18, 19, 20, 21, 22, 23, 24, 25, 26, 18, 19, 20, 21, 22, 23, 24, 25, 26, 27, 1]\n"
     ]
    }
   ],
   "source": [
    "lst = [sum(int(c) for c in str(i)) for i in range(1, 1001)]\n",
    "print(lst)"
   ]
  },
  {
   "cell_type": "markdown",
   "id": "6df3777e-36ba-4153-9c32-dcac7ac9d72a",
   "metadata": {},
   "source": [
    "## solution for problem 40."
   ]
  },
  {
   "cell_type": "code",
   "execution_count": 85,
   "id": "1424f9fe-1da1-4a94-b8ea-ec7b84070f07",
   "metadata": {},
   "outputs": [
    {
     "name": "stdout",
     "output_type": "stream",
     "text": [
      "[11, 33, 55, 77, 99, 101, 111, 121, 131, 141, 151, 161, 171, 181, 191, 303, 313, 323, 333, 343, 353, 363, 373, 383, 393, 505, 515, 525, 535, 545, 555, 565, 575, 585, 595, 707, 717, 727, 737, 747, 757, 767, 777, 787, 797, 909, 919, 929, 939, 949, 959, 969, 979, 989, 999]\n"
     ]
    }
   ],
   "source": [
    "lst = [i for i in range(10, 1000) if i % 2 != 0 and str(i) == str(i)[::-1]]\n",
    "print(lst)"
   ]
  },
  {
   "cell_type": "code",
   "execution_count": null,
   "id": "38f5f080-6cab-400d-b9d8-81078e9c59e2",
   "metadata": {},
   "outputs": [],
   "source": []
  }
 ],
 "metadata": {
  "kernelspec": {
   "display_name": "Python 3 (ipykernel)",
   "language": "python",
   "name": "python3"
  },
  "language_info": {
   "codemirror_mode": {
    "name": "ipython",
    "version": 3
   },
   "file_extension": ".py",
   "mimetype": "text/x-python",
   "name": "python",
   "nbconvert_exporter": "python",
   "pygments_lexer": "ipython3",
   "version": "3.10.8"
  }
 },
 "nbformat": 4,
 "nbformat_minor": 5
}
