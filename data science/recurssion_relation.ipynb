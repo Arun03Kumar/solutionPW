{
  "nbformat": 4,
  "nbformat_minor": 0,
  "metadata": {
    "colab": {
      "provenance": []
    },
    "kernelspec": {
      "name": "python3",
      "display_name": "Python 3"
    },
    "language_info": {
      "name": "python"
    }
  },
  "cells": [
    {
      "cell_type": "markdown",
      "source": [
        "# 1. Finding T(2) for T(n) = 3T(n-1) + 12n, with T(0) = 5"
      ],
      "metadata": {
        "id": "VwNn6hFL-tSO"
      }
    },
    {
      "cell_type": "markdown",
      "source": [
        "To find T(2), we'll work through the recurrence relation starting from T(0) and moving towards T(2).\n",
        "\n",
        "T(0) = 5 (Given)\n",
        "T(1) = 3T(0) + 12(1) = 3 * 5 + 12 = 15 + 12 = 27\n",
        "T(2) = 3T(1) + 12(2) = 3 * 27 + 12 * 2 = 81 + 24 = 105\n",
        "\n",
        "Therefore, T(2) = 105 for the given recurrence relation."
      ],
      "metadata": {
        "id": "FyAdoLJt-28n"
      }
    },
    {
      "cell_type": "markdown",
      "source": [
        "# 2. Solving Recurrence Relations using Substitution Method:"
      ],
      "metadata": {
        "id": "Cf7TkyMZ_oGJ"
      }
    },
    {
      "cell_type": "markdown",
      "source": [
        "a. T(n) = T(n-1) + c\n",
        "Let's solve this:\n",
        "T(n) = T(n-1) + c\n",
        "T(n-1) = T(n-2) + c\n",
        "T(n-2) = T(n-3) + c\n",
        "\n",
        "By substitution:\n",
        "T(n) = T(n-2) + 2c\n",
        "= T(n-3) + 3c\n",
        "= T(n-k) + kc\n",
        "\n",
        "If we assume the base case is T(0) = a:\n",
        "T(n-k) = T(0) + kc = a + kc\n",
        "\n",
        "b. T(n) = 2T(n/2) + n\n",
        "This is a case of the Master Theorem, where T(n) = aT(n/b) + f(n)\n",
        "Here, a = 2, b = 2, and f(n) = n\n",
        "According to the Master Theorem, for this case: T(n) = Θ(n log n)\n",
        "\n",
        "c. T(n) = 2T(n/2) + c\n",
        "This recurrence is similar to the previous one. Using the Master Theorem, the time complexity for this would also be Θ(n log n).\n",
        "\n",
        "d. T(n) = T(n/2) + c\n",
        "This recurrence relation represents linear time complexity, which is Θ(n)."
      ],
      "metadata": {
        "id": "QdZCqZEb_uQP"
      }
    },
    {
      "cell_type": "markdown",
      "source": [
        "# 3. Solving Recurrence Relations using Recursive Tree Approach:"
      ],
      "metadata": {
        "id": "nOrGJ5Rd_zD9"
      }
    },
    {
      "cell_type": "markdown",
      "source": [
        "a. T(n) = 2T(n-1) + 1\n",
        "This recursive relation represents exponential growth, where T(n) = O(2^n).\n",
        "\n",
        "b. T(n) = 2T(n/2) + n\n",
        "Using the Master Theorem, this recurrence relation results in a time complexity of Θ(n log n)."
      ],
      "metadata": {
        "id": "Zn69eUYC_3T5"
      }
    },
    {
      "cell_type": "code",
      "execution_count": null,
      "metadata": {
        "id": "JEkbJCX3-pea"
      },
      "outputs": [],
      "source": []
    }
  ]
}